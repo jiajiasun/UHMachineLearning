{
  "cells": [
    {
      "metadata": {},
      "cell_type": "markdown",
      "source": "# Training linear regression models using various optimization methods\nIn this lab exercise, the students will use a set of synthetic data to training a linear regression model. The students will employ four different algorithms/methods to performing the training, namely, **the normal equation method**, **batch gradient descent (BGD)**, **stochastic gradient descent (SGD)**, and **mini-batch gradient descent (MGD)** algorithms. The purpose of this exercise is for students to develop an initutive understanding of how each method works, and to be able to tell the differences between BGD, SGD and MGD in terms of their convergence behavior and their search paths. Students will also adjust the learning rate and make observations of how the learning rate affects the training process.<br>\n\nThis exercise contains several tasks to be completed by the students for a total of 100 points. 50 points would come from coding, and the rest comes from writing. There are also 10 bonus poins for those who are intereseted in exploring more about learning rate. <br>\n\nFor all the coding tasks, each one can be completed by one line of code. In total, you are expected to finish all the coding tasks with 7 lines of code. <br>\n<br>\n<font color = red> **One word of advice:**</font> do not consider this as an assignment. Instead, consider this report as something you can refer to in future if you want to refresh your memory of how gradient descent algoirthms work. Also, consider this notebook as something you can show to your colleague or boss to explain what a lineare regession model is, and how various gradient descent algorithms work. <br>\n<br>\nLast but not the least, <font color=blue >please feel free to use your Python programming and Jupyter Notebook knowledge to make this notebook yours! </font> <br>\n<br>\nAuthor: Jiajia Sun, 01/29/2019 at University of Houston."
    },
    {
      "metadata": {},
      "cell_type": "markdown",
      "source": "## Generate the set of data to be used later for training"
    },
    {
      "metadata": {
        "trusted": true
      },
      "cell_type": "code",
      "source": "import numpy as np      # for all the matrix and vector operations (we will always do this for this class.)\nimport matplotlib.pyplot as plt   # for plotting\nplt.rcParams['axes.labelsize'] = 14    # set the label size on each axis\nplt.rcParams['xtick.labelsize'] = 12   # set the label size for xtick values\nplt.rcParams['ytick.labelsize'] = 12   # set the label size for ytick values",
      "execution_count": 1,
      "outputs": [
        {
          "output_type": "stream",
          "text": "/home/nbuser/anaconda3_420/lib/python3.5/site-packages/matplotlib/font_manager.py:281: UserWarning: Matplotlib is building the font cache using fc-list. This may take a moment.\n  'Matplotlib is building the font cache using fc-list. '\n",
          "name": "stderr"
        }
      ]
    },
    {
      "metadata": {
        "trusted": true
      },
      "cell_type": "code",
      "source": "np.random.seed(42)   # set the random seed to make sure that we all generate the same random numbers\nx = 2 * np.random.rand(100, 1)    \ny = 4 + 3 * x + np.random.randn(100, 1)\nplt.plot(x, y, \"b.\")\nplt.xlabel(\"$x_1$\", fontsize=18)\nplt.ylabel(\"$y$\", rotation=0, fontsize=18)\nplt.title(\"training data\",fontsize=18)\nplt.axis([0, 2, 0, 15])\nplt.show()",
      "execution_count": 2,
      "outputs": [
        {
          "output_type": "display_data",
          "data": {
            "image/png": "[encoded data removed]",
            "text/plain": "<matplotlib.figure.Figure at 0x7f6622670ac8>"
          },
          "metadata": {}
        }
      ]
    },
    {
      "metadata": {},
      "cell_type": "markdown",
      "source": "Now, let us construct the matrix **X** and vector **y** for later use. <br>\nRemember that the matrix **X** and vector **y** are defined as follows: <br>\n$\\textbf{x} = \\begin{bmatrix} 1 & x_1^{(1)}\\\\ 1 & x_1^{(2)} \\\\ \\cdots \\\\ 1 & x_1^{(m)} \\end{bmatrix}_{m \\times 2}$,\n$\\textbf{y} = \\left [\\begin{array}{l} y^{(1)} \\\\ y^{(2)} \\\\ \\cdots \\\\ y^{(m)} \\end{array} \\right]_{m \\times 1}$, \nwhere the superscript $(i)$ refers to the $i^{th}$ training example. <br>\nNote: To learn more about how to typeset these equations, please refer to this webpage https://en.wikibooks.org/wiki/LaTeX/Mathematics."
    },
    {
      "metadata": {
        "trusted": true
      },
      "cell_type": "code",
      "source": "# construct the matrix X and the vector y\nm = x.shape[0]  # m is the number of training examples\nX = np.hstack((np.ones((m,1)),x))  # np.stack simply stacks two vectors (or matrices) horizontally.",
      "execution_count": 3,
      "outputs": []
    },
    {
      "metadata": {},
      "cell_type": "markdown",
      "source": "Now, let us first implement the normal equation method. "
    },
    {
      "metadata": {},
      "cell_type": "markdown",
      "source": "## Linear regression using normal equation method"
    },
    {
      "metadata": {},
      "cell_type": "markdown",
      "source": "<font color = red>**Task 1:** </font> please finish the right hand side of the line of code so that it implements the normal equation method. <font color = red>(10 points) </font>\n<br>\n<font color=red>**HINT:**</font> Remember that the normal equation is $\\hat{\\mathbf{\\theta}} = (\\mathbf{X}^T\\mathbf{X})^{-1}(\\mathbf{X}^T\\mathbf{y})$, where $\\hat{\\mathbf{\\theta}}$ represent the optimal values learned from the training data."
    },
    {
      "metadata": {
        "collapsed": true,
        "trusted": false
      },
      "cell_type": "markdown",
      "source": "theta_best = "
    },
    {
      "metadata": {
        "trusted": false
      },
      "cell_type": "code",
      "source": "# Now let us plot the learned model on top of our training data (you do not need to do anything. Just run the following code)\nxnew = np.linspace(0,2,100).reshape(-1,1)\nxnew_b = np.hstack((np.ones((100,1)),xnew))\nypredict = np.matmul(xnew_b,theta_best)\nplt.plot(x, y, \"b.\")\nplt.plot(xnew, ypredict, 'r-',linewidth=2, label=\"Predictions\")\nplt.legend(loc=\"upper left\", fontsize=14)\nplt.xlabel(\"$x_1$\", fontsize=18)\nplt.ylabel(\"$y$\", rotation=0, fontsize=18)\nplt.axis([0, 2, 0, 15])\nplt.show()",
      "execution_count": 9,
      "outputs": [
        {
          "data": {
            "image/png": "[encoded data removed]",
            "text/plain": "<matplotlib.figure.Figure at 0x23092563f60>"
          },
          "metadata": {},
          "output_type": "display_data"
        }
      ]
    },
    {
      "metadata": {},
      "cell_type": "markdown",
      "source": "<font color = red>**Task 2: ** </font> please write down a few sentences here about the normal equation method. For example,  what is its advantages over gradient descent? What are the problems with normal equation method? Feel free to refer back to the slides that we discussed in class. But please rephrase it using your own language. <font color = red> (15 points) </font>"
    },
    {
      "metadata": {
        "collapsed": true,
        "trusted": false
      },
      "cell_type": "code",
      "source": "(write down your answer to Task 2 below:) \n\n",
      "execution_count": null,
      "outputs": []
    },
    {
      "metadata": {},
      "cell_type": "markdown",
      "source": "## Linear regression using batch gradient descent (BGD)\nThe BGD algorithm can be summarized as follows: <br>\n 1\\. Given initial model parameter values, $\\mathbf{\\theta}$ <br>\n 2\\. <font color = green>for</font> <font color = blue>*iteration*</font> in <font color = red> *range(max_iterations)*</font>: <br>\n &nbsp;&nbsp;&nbsp;&nbsp;&nbsp;&nbsp;  gradient = $\\frac{1}{m} * \\textbf{X}^{T}(\\textbf{X}\\theta - \\textbf{y})$ <br>\n &nbsp;&nbsp;&nbsp;&nbsp;&nbsp;&nbsp;  $\\mathbf{\\theta} = \\theta$ - learning_rate*gradient <br>\n\n\n<font color = red>**Task 3: ** </font> please explain how BGD works using your own language. <font color = red> (5 points) </font>"
    },
    {
      "metadata": {
        "collapsed": true,
        "trusted": false
      },
      "cell_type": "code",
      "source": "(write down your answer to Task 3 below:) \n",
      "execution_count": null,
      "outputs": []
    },
    {
      "metadata": {
        "collapsed": true,
        "trusted": false
      },
      "cell_type": "code",
      "source": "learning_rate = 0.1\nmax_iterations = 1000\nnp.random.seed(42)\ntheta = np.random.randn(2,1)  # randomly initialize the theta values (i.e., our initial guess for theta)\n\ncost_bgd = []     # cost_bgd is a list that stores the cost function values after each iteration\ntheta_path_bgd = []  # theta_path_bgd is a list that stores the learned model parameters at each iteration\ntheta_path_bgd.append(theta)\n\nfor iteration in range(max_iterations):\n    # Task 4: calculate gradient (10 points)\n    gradients = \n    # Task 5: update the model (10 points)\n    theta = \n    theta_path_bgd.append(theta)\n    cost_bgd.append(np.linalg.norm(np.matmul(X,theta) - y)**2)",
      "execution_count": 20,
      "outputs": []
    },
    {
      "metadata": {},
      "cell_type": "markdown",
      "source": "Let us plot up the cost function values as a function of iterations."
    },
    {
      "metadata": {
        "trusted": true
      },
      "cell_type": "code",
      "source": "plt.semilogy(np.arange(len(cost_bgd)),cost_bgd,'-b')\nplt.xlabel(\"# of iterations\", fontsize=18)\nplt.ylabel(\"cost function value\", rotation=90, fontsize=18)\nplt.title('Convergence curve for BGD',fontsize=18)\nplt.show()",
      "execution_count": null,
      "outputs": []
    },
    {
      "metadata": {},
      "cell_type": "markdown",
      "source": "Your figure should look the same as the following one. If not, go back and check your code.\n<img src = \"Lab2_ConvergeCurveBGD.png\">"
    },
    {
      "metadata": {},
      "cell_type": "markdown",
      "source": "Let us take a look at how the learned model parameters evolve."
    },
    {
      "metadata": {
        "trusted": true
      },
      "cell_type": "code",
      "source": "theta_path_bgd = np.array(theta_path_bgd)\nplt.figure(figsize=(7,4))\nplt.plot(theta_path_bgd[:, 0, 0], theta_path_bgd[:, 1, 0], \"b-o\", linewidth=3, label=\"Batch\")\nplt.legend(loc=\"upper left\", fontsize=16)\nplt.xlabel(r\"$\\theta_0$\", fontsize=20)\nplt.ylabel(r\"$\\theta_1$   \", fontsize=20, rotation=0)\nplt.title('Search path for BGD', fontsize =18)\n#plt.axis([2.5, 4.5, 2.3, 3.9])\nplt.show()",
      "execution_count": null,
      "outputs": []
    },
    {
      "metadata": {},
      "cell_type": "markdown",
      "source": "Your search path should look the same as the following one. If not, something is wrong with your implementation of BGD.\n<img src = \"Lab2_SearchPathBGD.png\">"
    },
    {
      "metadata": {},
      "cell_type": "markdown",
      "source": "<font color=red>**Task 6:** </font> Summarize what you have observed from the above two figures. <font color = red>(5 points)</font>"
    },
    {
      "metadata": {
        "collapsed": true,
        "trusted": false
      },
      "cell_type": "code",
      "source": "(write down your answer to Task 6 below:) \n",
      "execution_count": null,
      "outputs": []
    },
    {
      "metadata": {},
      "cell_type": "markdown",
      "source": "<font color = red>**bonus (10 points):** </font> Change the learning rate to 0.01 and 1.0, plot up the resulting convergence curves, and compare them with the convergence curve when learning rate is 0.1. Please summarize your observations using your own language."
    },
    {
      "metadata": {
        "collapsed": true,
        "trusted": false
      },
      "cell_type": "code",
      "source": "(write down your answer below:) \n",
      "execution_count": null,
      "outputs": []
    },
    {
      "metadata": {},
      "cell_type": "markdown",
      "source": "## Linear regresson using stochastic gradient descent (SGD)\nThe SGD algorithm can be summarized as follows: <br>\n 1\\. Given initial model parameter values, $\\theta$ <br>\n 2\\. <font color = green>for</font> <font color = blue>*epoch*</font> in <font color = red> *range(n_epochs)*</font>: <br>\n  &nbsp;&nbsp;&nbsp;&nbsp;&nbsp;&nbsp; shuffle the indices [0,1,2,..., m-1] <br>\n  &nbsp;&nbsp;&nbsp;&nbsp;&nbsp;&nbsp; <font color = green>for</font> <font color = blue>*i*</font> in <font color = red> *shuffled indices*</font>: <br>\n &nbsp;&nbsp;&nbsp;&nbsp;&nbsp;&nbsp;&nbsp;&nbsp;&nbsp;  gradient = $\\textbf{X}_i^{T}(\\textbf{X}_i\\theta - \\textbf{y}_i)$, where subscript $i$ represents the $i^{th}$ row <br>\n &nbsp;&nbsp;&nbsp;&nbsp;&nbsp;&nbsp;&nbsp;&nbsp;&nbsp;  $\\theta = \\theta$ - learning_rate*gradient <br>\n\n\n<font color = red>**Task 7: ** </font> please explain how SGD works using your own language. <font color = red> (5 points) </font>"
    },
    {
      "metadata": {
        "collapsed": true,
        "trusted": false
      },
      "cell_type": "code",
      "source": "(write down your answer to Task 7 below:) \n\n",
      "execution_count": null,
      "outputs": []
    },
    {
      "metadata": {
        "collapsed": true,
        "trusted": false
      },
      "cell_type": "code",
      "source": "np.random.seed(42)\nn_epochs = 50\nlearning_rate = 0.1   # try decreasing the learning_rate to 0.01 and see what happens\ntheta = np.random.randn(2,1)\n\ncost_sgd = []\ntheta_path_sgd = []\ntheta_path_sgd.append(theta)\n\nfor epoch in np.arange(n_epochs):\n    sequence = np.arange(m)\n    np.random.shuffle(sequence)\n    for num in sequence:\n        # task 8: obtain the ith row of the matrix X and the ith row of the vector y (10 points)\n        xi = X[num:num+1,:] # This is how you can extract the num^th row from the matrix X\n        yi =       \n        # task 9: calculate the gradient, and updat the learned model (10 points)\n        gradient = \n        theta = \n        theta_path_sgd.append(theta)\n        cost_sgd.append(np.linalg.norm(np.matmul(X,theta) - y)**2)",
      "execution_count": 25,
      "outputs": []
    },
    {
      "metadata": {
        "trusted": true
      },
      "cell_type": "code",
      "source": "plt.semilogy(np.arange(len(cost_sgd)),cost_sgd)\nplt.xlabel(\"# of iterations\", fontsize=18)\nplt.ylabel(\"cost function value\", rotation=90, fontsize=18)\nplt.title('Convergence curve for SGD',fontsize=18)\nplt.show()",
      "execution_count": null,
      "outputs": []
    },
    {
      "metadata": {},
      "cell_type": "markdown",
      "source": "Your figure should look the same as the following one. If not, go back and check your code.\n<img src = \"Lab2_ConvergeCurveSGD.png\">"
    },
    {
      "metadata": {},
      "cell_type": "markdown",
      "source": "Let us plot up the search paths of BGD and SGD"
    },
    {
      "metadata": {
        "trusted": true
      },
      "cell_type": "code",
      "source": "theta_path_sgd = np.array(theta_path_sgd)\nplt.figure(figsize=(7,4))\nplt.plot(theta_path_sgd[:, 0, 0], theta_path_sgd[:, 1, 0], \"r-s\", linewidth=1, label=\"Stochastic\")\nplt.plot(theta_path_bgd[:, 0, 0], theta_path_bgd[:, 1, 0], \"b-o\", linewidth=1, label=\"Batch\")\nplt.legend(loc=\"upper left\", fontsize=16)\nplt.xlabel(r\"$\\theta_0$\", fontsize=20)\nplt.ylabel(r\"$\\theta_1$\", fontsize=20, rotation=0)\nplt.title(\"search paths for BGD and SGD\",fontsize=18)\n#plt.axis([2.5, 4.5, 2.3, 3.9])\nplt.show()",
      "execution_count": null,
      "outputs": []
    },
    {
      "metadata": {},
      "cell_type": "markdown",
      "source": "Your search path should look the same as the following one. If not, something is wrong with your implementation of SGD.\n<img src = \"Lab2_SearchPathBGDSGD.png\">"
    },
    {
      "metadata": {},
      "cell_type": "markdown",
      "source": "<font color = red>**Task 10:** </font> Please compare the convergence curves of BGD and SGD, and write down your observations. Similarly, compare the search paths of BGD and SGD, and report what you have observed. <font color = red> (5 points) </font>"
    },
    {
      "metadata": {
        "collapsed": true,
        "trusted": false
      },
      "cell_type": "code",
      "source": "(write down your answer to Task 10 below:) \n\n",
      "execution_count": null,
      "outputs": []
    },
    {
      "metadata": {},
      "cell_type": "markdown",
      "source": "# Linear regression using mini-batch gradient descent\n<font color=red>**Task 11:** </font> Please summarize how mini-batch gradient descent algorithm works and how it is different from BGD and SGD. <font color=red>(5 points)</font>"
    },
    {
      "metadata": {
        "collapsed": true,
        "trusted": false
      },
      "cell_type": "code",
      "source": "(write down your answer to Task 11 below:) \n\n",
      "execution_count": null,
      "outputs": []
    },
    {
      "metadata": {
        "collapsed": true,
        "trusted": false
      },
      "cell_type": "code",
      "source": "# The following code implements the mini-batch gradient descent. You just need to run it.\nnp.random.seed(42)\nn_epochs = 50\nlearning_rate = 0.01   \ntheta = np.random.randn(2,1)\n\nminibatch_size = 20  \ncost_mgd = []\ntheta_path_mgd = []\ntheta_path_mgd.append(theta)\n\nfor epoch in np.arange(n_epochs):\n    shuffled_indices = np.random.permutation(m)\n    X_shuffled = X[shuffled_indices]\n    y_shuffled = y[shuffled_indices]\n    for num in np.arange(0,m,minibatch_size):\n        xi = X_shuffled[num:num+minibatch_size,:]\n        yi = y_shuffled[num:num+minibatch_size]\n        gradient = xi.T.dot(xi.dot(theta) - yi)\n        theta = theta - learning_rate*gradient\n        theta_path_mgd.append(theta)\n        cost_mgd.append(np.linalg.norm(np.matmul(X,theta) - y)**2)",
      "execution_count": 28,
      "outputs": []
    },
    {
      "metadata": {
        "trusted": true
      },
      "cell_type": "code",
      "source": "plt.semilogy(np.arange(len(cost_mgd)),cost_mgd)\nplt.xlabel(\"# of iterations\", fontsize=18)\nplt.ylabel(\"cost function value\", rotation=90, fontsize=18)\nplt.title('Convergence curve for MGD',fontsize=18)\nplt.show()",
      "execution_count": null,
      "outputs": []
    },
    {
      "metadata": {},
      "cell_type": "markdown",
      "source": "Let us plot up all the three search paths of BGD, SGD and MGD."
    },
    {
      "metadata": {
        "trusted": false
      },
      "cell_type": "code",
      "source": "theta_path_mgd = np.array(theta_path_mgd)\nplt.figure(figsize=(7,4))\nplt.plot(theta_path_sgd[:, 0, 0], theta_path_sgd[:, 1, 0], \"r-s\", linewidth=1, label=\"Stochastic\")\nplt.plot(theta_path_mgd[:, 0, 0], theta_path_mgd[:, 1, 0], \"g-+\", linewidth=2, label=\"Mini-batch\")\nplt.plot(theta_path_bgd[:, 0, 0], theta_path_bgd[:, 1, 0], \"b-o\", linewidth=1, label=\"Batch\")\nplt.legend(loc=\"upper left\", fontsize=16)\nplt.xlabel(r\"$\\theta_0$\", fontsize=20)\nplt.ylabel(r\"$\\theta_1$\", fontsize=20, rotation=0)\n#plt.axis([2.5, 4.5, 2.3, 3.9])\nplt.show()",
      "execution_count": 30,
      "outputs": [
        {
          "data": {
            "image/png": "[encoded data removed]",
            "text/plain": "<matplotlib.figure.Figure at 0x23093cca4a8>"
          },
          "metadata": {},
          "output_type": "display_data"
        }
      ]
    },
    {
      "metadata": {},
      "cell_type": "markdown",
      "source": "<font color=red>**Task 12:** </font> Compare the convergence curves of BGD, SGD and MGD, and write down what you have observed. Similarly, compare the search paths of all three algorithms, and report your observation in writing. <font color =red> (10 points) </font>"
    },
    {
      "metadata": {
        "collapsed": true,
        "trusted": false
      },
      "cell_type": "code",
      "source": "(write down your answer to Task 12 below:) \n",
      "execution_count": null,
      "outputs": []
    },
    {
      "metadata": {
        "collapsed": true
      },
      "cell_type": "markdown",
      "source": "## Congratulations! You have now developed a good knowledge of linear regression, the gradient descent and two of its most well-known variants. This will prove to be very useful for you to understand how many machine learing algorithms work, including neural networks."
    },
    {
      "metadata": {
        "collapsed": true,
        "trusted": false
      },
      "cell_type": "code",
      "source": "",
      "execution_count": null,
      "outputs": []
    }
  ],
  "metadata": {
    "kernelspec": {
      "name": "python3",
      "display_name": "Python 3",
      "language": "python"
    },
    "language_info": {
      "mimetype": "text/x-python",
      "nbconvert_exporter": "python",
      "name": "python",
      "file_extension": ".py",
      "version": "3.5.4",
      "pygments_lexer": "ipython3",
      "codemirror_mode": {
        "version": 3,
        "name": "ipython"
      }
    }
  },
  "nbformat": 4,
  "nbformat_minor": 2
}