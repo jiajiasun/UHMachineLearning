{
  "cells": [
    {
      "metadata": {},
      "cell_type": "markdown",
      "source": "## 1. Import packages"
    },
    {
      "metadata": {
        "trusted": true
      },
      "cell_type": "code",
      "source": "import keras\nfrom keras.datasets import mnist\nfrom keras.models import Sequential\nfrom keras.layers import Dense",
      "execution_count": 1,
      "outputs": [
        {
          "output_type": "stream",
          "text": "Using TensorFlow backend.\n",
          "name": "stderr"
        }
      ]
    },
    {
      "metadata": {
        "trusted": true
      },
      "cell_type": "code",
      "source": "import numpy as np\nimport matplotlib.pyplot as plt",
      "execution_count": 2,
      "outputs": []
    },
    {
      "metadata": {},
      "cell_type": "markdown",
      "source": "## 2. Load data"
    },
    {
      "metadata": {
        "trusted": true
      },
      "cell_type": "code",
      "source": "(x_train, y_train), (x_notrain, y_notrain) = mnist.load_data()",
      "execution_count": 3,
      "outputs": []
    },
    {
      "metadata": {
        "trusted": true
      },
      "cell_type": "code",
      "source": "x_train.shape",
      "execution_count": 4,
      "outputs": [
        {
          "output_type": "execute_result",
          "execution_count": 4,
          "data": {
            "text/plain": "(60000, 28, 28)"
          },
          "metadata": {}
        }
      ]
    },
    {
      "metadata": {
        "trusted": true
      },
      "cell_type": "code",
      "source": "y_train.shape",
      "execution_count": 5,
      "outputs": [
        {
          "output_type": "execute_result",
          "execution_count": 5,
          "data": {
            "text/plain": "(60000,)"
          },
          "metadata": {}
        }
      ]
    },
    {
      "metadata": {},
      "cell_type": "markdown",
      "source": "### split the non-training data into two parts: validation set and test set"
    },
    {
      "metadata": {
        "trusted": true
      },
      "cell_type": "code",
      "source": "x_validation = x_notrain[:5000,:]\ny_validation = y_notrain[:5000,]",
      "execution_count": 6,
      "outputs": []
    },
    {
      "metadata": {
        "trusted": true
      },
      "cell_type": "code",
      "source": "x_test = x_notrain[5000:,:]\ny_test = y_notrain[5000:,]",
      "execution_count": 7,
      "outputs": []
    },
    {
      "metadata": {},
      "cell_type": "markdown",
      "source": "## 3. Visualize data"
    },
    {
      "metadata": {
        "trusted": true
      },
      "cell_type": "code",
      "source": "randnum = np.random.randint(0, 60000, 4)",
      "execution_count": 12,
      "outputs": []
    },
    {
      "metadata": {
        "trusted": true
      },
      "cell_type": "code",
      "source": "for icount in np.arange(4):\n    plt.subplot(1,4,icount+1)\n    img_current = x_train[randnum[icount]]\n    plt.imshow(img_current)    ",
      "execution_count": 13,
      "outputs": [
        {
          "output_type": "display_data",
          "data": {
            "image/png": "[encoded data removed]",
            "text/plain": "<Figure size 432x288 with 4 Axes>"
          },
          "metadata": {
            "needs_background": "light"
          }
        }
      ]
    },
    {
      "metadata": {},
      "cell_type": "markdown",
      "source": "## 4. Prepare data in the right format"
    },
    {
      "metadata": {
        "trusted": true
      },
      "cell_type": "code",
      "source": "x_train = x_train.reshape(x_train.shape[0], 784).astype('float32')/225",
      "execution_count": 14,
      "outputs": []
    },
    {
      "metadata": {
        "trusted": true
      },
      "cell_type": "code",
      "source": "x_validation = x_validation.reshape(x_validation.shape[0], 784).astype('float32')/225",
      "execution_count": 15,
      "outputs": []
    },
    {
      "metadata": {
        "trusted": true
      },
      "cell_type": "code",
      "source": "x_test = x_test.reshape(x_test.shape[0],784).astype('float32')/225",
      "execution_count": 16,
      "outputs": []
    },
    {
      "metadata": {
        "trusted": true
      },
      "cell_type": "code",
      "source": "y_train = keras.utils.to_categorical(y_train,10)\ny_validation = keras.utils.to_categorical(y_validation,10)\ny_test = keras.utils.to_categorical(y_test,10)",
      "execution_count": 17,
      "outputs": []
    },
    {
      "metadata": {},
      "cell_type": "markdown",
      "source": "## 5. Build up your neural networks"
    },
    {
      "metadata": {
        "trusted": true
      },
      "cell_type": "code",
      "source": "model = Sequential()\nmodel.add(Dense(128,input_dim=784, activation='relu'))\nmodel.add(Dense(10,activation='softmax'))",
      "execution_count": 18,
      "outputs": []
    },
    {
      "metadata": {
        "trusted": true
      },
      "cell_type": "code",
      "source": "model.compile(loss='categorical_crossentropy', optimizer='adam',metrics=['accuracy'])",
      "execution_count": 19,
      "outputs": []
    },
    {
      "metadata": {},
      "cell_type": "markdown",
      "source": "## 6. Train your neural networks"
    },
    {
      "metadata": {
        "trusted": true
      },
      "cell_type": "code",
      "source": "model.fit(x_train, y_train, batch_size=128, epochs=10, verbose=1, validation_data=(x_validation,y_validation))",
      "execution_count": 20,
      "outputs": [
        {
          "output_type": "stream",
          "text": "Train on 60000 samples, validate on 5000 samples\nEpoch 1/10\n60000/60000 [==============================] - 3s 53us/step - loss: 0.3439 - acc: 0.9048 - val_loss: 0.2355 - val_acc: 0.9364\nEpoch 2/10\n60000/60000 [==============================] - 3s 50us/step - loss: 0.1597 - acc: 0.9537 - val_loss: 0.1829 - val_acc: 0.9436\nEpoch 3/10\n60000/60000 [==============================] - 3s 51us/step - loss: 0.1151 - acc: 0.9667 - val_loss: 0.1434 - val_acc: 0.9570\nEpoch 4/10\n60000/60000 [==============================] - 3s 50us/step - loss: 0.0892 - acc: 0.9745 - val_loss: 0.1221 - val_acc: 0.9638\nEpoch 5/10\n60000/60000 [==============================] - 3s 53us/step - loss: 0.0717 - acc: 0.9789 - val_loss: 0.1086 - val_acc: 0.9666\nEpoch 6/10\n60000/60000 [==============================] - 4s 63us/step - loss: 0.0589 - acc: 0.9828 - val_loss: 0.1031 - val_acc: 0.9678\nEpoch 7/10\n60000/60000 [==============================] - 3s 56us/step - loss: 0.0497 - acc: 0.9856 - val_loss: 0.0993 - val_acc: 0.9680\nEpoch 8/10\n60000/60000 [==============================] - 4s 64us/step - loss: 0.0420 - acc: 0.9877 - val_loss: 0.0985 - val_acc: 0.9680\nEpoch 9/10\n60000/60000 [==============================] - 4s 61us/step - loss: 0.0346 - acc: 0.9902 - val_loss: 0.0984 - val_acc: 0.9694\nEpoch 10/10\n60000/60000 [==============================] - 4s 61us/step - loss: 0.0301 - acc: 0.9915 - val_loss: 0.0976 - val_acc: 0.9720\n",
          "name": "stdout"
        },
        {
          "output_type": "execute_result",
          "execution_count": 20,
          "data": {
            "text/plain": "<keras.callbacks.History at 0x7f2a88281be0>"
          },
          "metadata": {}
        }
      ]
    },
    {
      "metadata": {
        "trusted": true
      },
      "cell_type": "code",
      "source": "score = model.evaluate(x_test,y_test,verbose=1)",
      "execution_count": 21,
      "outputs": [
        {
          "output_type": "stream",
          "text": "5000/5000 [==============================] - 0s 44us/step\n",
          "name": "stdout"
        }
      ]
    },
    {
      "metadata": {
        "trusted": true
      },
      "cell_type": "code",
      "source": "score",
      "execution_count": 22,
      "outputs": [
        {
          "output_type": "execute_result",
          "execution_count": 22,
          "data": {
            "text/plain": "[0.04560919502461329, 0.9872]"
          },
          "metadata": {}
        }
      ]
    },
    {
      "metadata": {},
      "cell_type": "markdown",
      "source": "## 7. Visualize your results"
    },
    {
      "metadata": {
        "trusted": true
      },
      "cell_type": "code",
      "source": "randnum = np.random.randint(0,5000,4)\nx = x_test[randnum]\nplt.figure(figsize=(10,30))\nfor i in np.arange(4):\n    plt.subplot(1,4,i+1)\n    y_predict = np.argmax(model.predict(x)[i])\n    y_true = np.argmax(y_test[randnum[i]])\n    img = np.reshape(x_test[randnum[i]], (28,28))\n    plt.imshow(img)\n    plt.title('Predict: %i True %i' %(y_predict, y_true ))\n        \nplt.figure(figsize=(10,2))\nfor i in range(4):\n    bar = model.predict(x)[i]\n    classes = [0,1,2,3,4,5,6,7,8,9]\n    plt.subplot(1,4,i+1)\n    plt.bar(classes, bar)\n    plt.xlabel(\"category\")\n    plt.ylabel(\"probability\")\n    plt.title(\"prediction confidence\")",
      "execution_count": 24,
      "outputs": [
        {
          "output_type": "display_data",
          "data": {
            "image/png": "[encoded data removed]",
            "text/plain": "<Figure size 720x2160 with 4 Axes>"
          },
          "metadata": {
            "needs_background": "light"
          }
        },
        {
          "output_type": "display_data",
          "data": {
            "image/png": "[encoded data removed]",
            "text/plain": "<Figure size 720x144 with 4 Axes>"
          },
          "metadata": {
            "needs_background": "light"
          }
        }
      ]
    },
    {
      "metadata": {
        "trusted": true
      },
      "cell_type": "markdown",
      "source": "## Acknowledgments\nI would like to thank Felicia Nurindrawati for help create this Keras tutorial. Felicia is currently a graduate student working with Dr. Jiajia Sun in the Department of Earth and Atmospheric Sciences at the University of Houston. <br>\n\n<img src = \"poto.png\" width=\"300\">"
    },
    {
      "metadata": {
        "trusted": true
      },
      "cell_type": "code",
      "source": "",
      "execution_count": null,
      "outputs": []
    }
  ],
  "metadata": {
    "kernelspec": {
      "name": "python36",
      "display_name": "Python 3.6",
      "language": "python"
    },
    "language_info": {
      "mimetype": "text/x-python",
      "nbconvert_exporter": "python",
      "name": "python",
      "pygments_lexer": "ipython3",
      "version": "3.6.6",
      "file_extension": ".py",
      "codemirror_mode": {
        "version": 3,
        "name": "ipython"
      }
    }
  },
  "nbformat": 4,
  "nbformat_minor": 2
}