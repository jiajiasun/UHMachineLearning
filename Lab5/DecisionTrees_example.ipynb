{
  "cells": [
    {
      "metadata": {},
      "cell_type": "markdown",
      "source": "# Classification and Regression using Decision Trees"
    },
    {
      "metadata": {},
      "cell_type": "markdown",
      "source": "This notebook walks you through two examples using Decision Trees, one for classification, and the other for regression. We will implement Decision Trees using Scikit-Learn. We will also use the Graphviz package to visualize the decision trees, which has proven to be a very useful way of understanding how Decision Trees work. <br>\n<br>\nAuthor: Jiajia Sun @ University of Houston, 02/21/2019"
    },
    {
      "metadata": {},
      "cell_type": "markdown",
      "source": "## 1. Classification of Iris flowers\nWe will use the famour Iris data set as an example to illustrate how to implement Decision Trees in Scikit-Learn."
    },
    {
      "metadata": {},
      "cell_type": "markdown",
      "source": "### 1.1. Import Scikit-Learn packages"
    },
    {
      "metadata": {
        "trusted": true
      },
      "cell_type": "code",
      "source": "import numpy as np\nimport matplotlib.pyplot as plt\nfrom sklearn.datasets import load_iris\nfrom sklearn.tree import DecisionTreeClassifier\nfrom sklearn.tree import export_graphviz",
      "execution_count": 1,
      "outputs": []
    },
    {
      "metadata": {},
      "cell_type": "markdown",
      "source": "### 1.2 Get the training data ready\nFor this demo, we are going to use only two features, petal length and width measurements, to classify the Iris flowers."
    },
    {
      "metadata": {
        "trusted": true
      },
      "cell_type": "code",
      "source": "iris = load_iris()\nX = iris.data[:, 2:] # petal length and width\ny = iris.target",
      "execution_count": 2,
      "outputs": []
    },
    {
      "metadata": {},
      "cell_type": "markdown",
      "source": "### 1.3 Set up the classifier\nNow, we need to specify what kind of decision trees we want to have. For example, how many depths (i.e., max_depth)? What is the minimum number of samples that a leaf node must have (i.e., min_samples_leaf)? These are called hyperparameters; they impose different constraints on the learning process. Note that they are NOT the model parameters that a machine learning algorithm tries to learn during training. Hyperparameters are set before the learning (or training) takes place. "
    },
    {
      "metadata": {
        "trusted": true
      },
      "cell_type": "code",
      "source": "tree_clf = DecisionTreeClassifier(max_depth=2, random_state=42)",
      "execution_count": 3,
      "outputs": []
    },
    {
      "metadata": {},
      "cell_type": "markdown",
      "source": "In the above example, I set max_depth = 2. Please feell free to try different values."
    },
    {
      "metadata": {},
      "cell_type": "markdown",
      "source": "### 1.4 Training\nThis is probably the simplest part, because all you need to do is run the code **name_of_my_classifier<font color=red>.fit</font>** followed by your training data with labels."
    },
    {
      "metadata": {
        "trusted": true
      },
      "cell_type": "code",
      "source": "tree_clf.fit(X, y)",
      "execution_count": 4,
      "outputs": [
        {
          "output_type": "execute_result",
          "execution_count": 4,
          "data": {
            "text/plain": "DecisionTreeClassifier(class_weight=None, criterion='gini', max_depth=2,\n            max_features=None, max_leaf_nodes=None,\n            min_impurity_decrease=0.0, min_impurity_split=None,\n            min_samples_leaf=1, min_samples_split=2,\n            min_weight_fraction_leaf=0.0, presort=False, random_state=42,\n            splitter='best')"
          },
          "metadata": {}
        }
      ]
    },
    {
      "metadata": {},
      "cell_type": "markdown",
      "source": "### 1.5 Visualization\nThis helps us actually see the decision tree that our algorithm just trained using Iris data set."
    },
    {
      "metadata": {
        "trusted": true
      },
      "cell_type": "code",
      "source": "import graphviz\ndot_data = export_graphviz(tree_clf, out_file=None) \ngraph = graphviz.Source(dot_data) \ngraph.render(\"iris\") ",
      "execution_count": 5,
      "outputs": [
        {
          "output_type": "execute_result",
          "execution_count": 5,
          "data": {
            "text/plain": "'iris.pdf'"
          },
          "metadata": {}
        }
      ]
    },
    {
      "metadata": {},
      "cell_type": "markdown",
      "source": "Altenatively, the *export_graphviz* exporter also supports a variety of aesthetic options, including coloring nodes by their class (or value for regression) and using explicit variable and class names if desired. Jupyter notebooks also render these plots inline automatically:"
    },
    {
      "metadata": {
        "scrolled": true,
        "trusted": true
      },
      "cell_type": "code",
      "source": "dot_data = export_graphviz(tree_clf, out_file=None, \n                         feature_names=iris.feature_names[2:],  \n                         class_names=iris.target_names,  \n                         filled=True, rounded=True,  \n                         special_characters=True)  \ngraph = graphviz.Source(dot_data)  \n",
      "execution_count": 6,
      "outputs": []
    },
    {
      "metadata": {
        "trusted": true
      },
      "cell_type": "code",
      "source": "graph",
      "execution_count": 7,
      "outputs": [
        {
          "output_type": "execute_result",
          "execution_count": 7,
          "data": {
            "text/plain": "<graphviz.files.Source at 0x7fc60fa8b860>",
            "image/svg+xml": "<?xml version=\"1.0\" encoding=\"UTF-8\" standalone=\"no\"?>\n<!DOCTYPE svg PUBLIC \"-//W3C//DTD SVG 1.1//EN\"\n \"http://www.w3.org/Graphics/SVG/1.1/DTD/svg11.dtd\">\n<!-- Generated by graphviz version 2.38.0 (20140413.2041)\n -->\n<!-- Title: Tree Pages: 1 -->\n<svg width=\"347pt\" height=\"314pt\"\n viewBox=\"0.00 0.00 347.00 314.00\" xmlns=\"http://www.w3.org/2000/svg\" xmlns:xlink=\"http://www.w3.org/1999/xlink\">\n<g id=\"graph0\" class=\"graph\" transform=\"scale(1 1) rotate(0) translate(4 310)\">\n<title>Tree</title>\n<polygon fill=\"white\" stroke=\"none\" points=\"-4,4 -4,-310 343,-310 343,4 -4,4\"/>\n<!-- 0 -->\n<g id=\"node1\" class=\"node\"><title>0</title>\n<path fill=\"none\" stroke=\"black\" d=\"M203.5,-306C203.5,-306 67.5,-306 67.5,-306 61.5,-306 55.5,-300 55.5,-294 55.5,-294 55.5,-235 55.5,-235 55.5,-229 61.5,-223 67.5,-223 67.5,-223 203.5,-223 203.5,-223 209.5,-223 215.5,-229 215.5,-235 215.5,-235 215.5,-294 215.5,-294 215.5,-300 209.5,-306 203.5,-306\"/>\n<text text-anchor=\"start\" x=\"63.5\" y=\"-290.8\" font-family=\"Helvetica,sans-Serif\" font-size=\"14.00\">petal length (cm) ≤ 2.45</text>\n<text text-anchor=\"start\" x=\"100\" y=\"-275.8\" font-family=\"Helvetica,sans-Serif\" font-size=\"14.00\">gini = 0.667</text>\n<text text-anchor=\"start\" x=\"90.5\" y=\"-260.8\" font-family=\"Helvetica,sans-Serif\" font-size=\"14.00\">samples = 150</text>\n<text text-anchor=\"start\" x=\"77.5\" y=\"-245.8\" font-family=\"Helvetica,sans-Serif\" font-size=\"14.00\">value = [50, 50, 50]</text>\n<text text-anchor=\"start\" x=\"92\" y=\"-230.8\" font-family=\"Helvetica,sans-Serif\" font-size=\"14.00\">class = setosa</text>\n</g>\n<!-- 1 -->\n<g id=\"node2\" class=\"node\"><title>1</title>\n<path fill=\"#e58139\" stroke=\"black\" d=\"M105,-179.5C105,-179.5 12,-179.5 12,-179.5 6,-179.5 -7.10543e-15,-173.5 -7.10543e-15,-167.5 -7.10543e-15,-167.5 -7.10543e-15,-123.5 -7.10543e-15,-123.5 -7.10543e-15,-117.5 6,-111.5 12,-111.5 12,-111.5 105,-111.5 105,-111.5 111,-111.5 117,-117.5 117,-123.5 117,-123.5 117,-167.5 117,-167.5 117,-173.5 111,-179.5 105,-179.5\"/>\n<text text-anchor=\"start\" x=\"30.5\" y=\"-164.3\" font-family=\"Helvetica,sans-Serif\" font-size=\"14.00\">gini = 0.0</text>\n<text text-anchor=\"start\" x=\"17.5\" y=\"-149.3\" font-family=\"Helvetica,sans-Serif\" font-size=\"14.00\">samples = 50</text>\n<text text-anchor=\"start\" x=\"8\" y=\"-134.3\" font-family=\"Helvetica,sans-Serif\" font-size=\"14.00\">value = [50, 0, 0]</text>\n<text text-anchor=\"start\" x=\"15\" y=\"-119.3\" font-family=\"Helvetica,sans-Serif\" font-size=\"14.00\">class = setosa</text>\n</g>\n<!-- 0&#45;&gt;1 -->\n<g id=\"edge1\" class=\"edge\"><title>0&#45;&gt;1</title>\n<path fill=\"none\" stroke=\"black\" d=\"M108.785,-222.907C101.378,-211.652 93.3266,-199.418 85.8819,-188.106\"/>\n<polygon fill=\"black\" stroke=\"black\" points=\"88.749,-186.096 80.3278,-179.667 82.9017,-189.944 88.749,-186.096\"/>\n<text text-anchor=\"middle\" x=\"75.2794\" y=\"-200.452\" font-family=\"Helvetica,sans-Serif\" font-size=\"14.00\">True</text>\n</g>\n<!-- 2 -->\n<g id=\"node3\" class=\"node\"><title>2</title>\n<path fill=\"none\" stroke=\"black\" d=\"M278,-187C278,-187 147,-187 147,-187 141,-187 135,-181 135,-175 135,-175 135,-116 135,-116 135,-110 141,-104 147,-104 147,-104 278,-104 278,-104 284,-104 290,-110 290,-116 290,-116 290,-175 290,-175 290,-181 284,-187 278,-187\"/>\n<text text-anchor=\"start\" x=\"143\" y=\"-171.8\" font-family=\"Helvetica,sans-Serif\" font-size=\"14.00\">petal width (cm) ≤ 1.75</text>\n<text text-anchor=\"start\" x=\"184.5\" y=\"-156.8\" font-family=\"Helvetica,sans-Serif\" font-size=\"14.00\">gini = 0.5</text>\n<text text-anchor=\"start\" x=\"167.5\" y=\"-141.8\" font-family=\"Helvetica,sans-Serif\" font-size=\"14.00\">samples = 100</text>\n<text text-anchor=\"start\" x=\"158\" y=\"-126.8\" font-family=\"Helvetica,sans-Serif\" font-size=\"14.00\">value = [0, 50, 50]</text>\n<text text-anchor=\"start\" x=\"160\" y=\"-111.8\" font-family=\"Helvetica,sans-Serif\" font-size=\"14.00\">class = versicolor</text>\n</g>\n<!-- 0&#45;&gt;2 -->\n<g id=\"edge2\" class=\"edge\"><title>0&#45;&gt;2</title>\n<path fill=\"none\" stroke=\"black\" d=\"M162.215,-222.907C168.008,-214.105 174.195,-204.703 180.178,-195.612\"/>\n<polygon fill=\"black\" stroke=\"black\" points=\"183.259,-197.298 185.832,-187.021 177.411,-193.45 183.259,-197.298\"/>\n<text text-anchor=\"middle\" x=\"190.881\" y=\"-207.806\" font-family=\"Helvetica,sans-Serif\" font-size=\"14.00\">False</text>\n</g>\n<!-- 3 -->\n<g id=\"node4\" class=\"node\"><title>3</title>\n<path fill=\"#39e581\" fill-opacity=\"0.898039\" stroke=\"black\" d=\"M192,-68C192,-68 95,-68 95,-68 89,-68 83,-62 83,-56 83,-56 83,-12 83,-12 83,-6 89,-0 95,-0 95,-0 192,-0 192,-0 198,-0 204,-6 204,-12 204,-12 204,-56 204,-56 204,-62 198,-68 192,-68\"/>\n<text text-anchor=\"start\" x=\"108\" y=\"-52.8\" font-family=\"Helvetica,sans-Serif\" font-size=\"14.00\">gini = 0.168</text>\n<text text-anchor=\"start\" x=\"102.5\" y=\"-37.8\" font-family=\"Helvetica,sans-Serif\" font-size=\"14.00\">samples = 54</text>\n<text text-anchor=\"start\" x=\"93\" y=\"-22.8\" font-family=\"Helvetica,sans-Serif\" font-size=\"14.00\">value = [0, 49, 5]</text>\n<text text-anchor=\"start\" x=\"91\" y=\"-7.8\" font-family=\"Helvetica,sans-Serif\" font-size=\"14.00\">class = versicolor</text>\n</g>\n<!-- 2&#45;&gt;3 -->\n<g id=\"edge3\" class=\"edge\"><title>2&#45;&gt;3</title>\n<path fill=\"none\" stroke=\"black\" d=\"M186.807,-103.726C181.289,-94.9703 175.45,-85.7032 169.906,-76.9051\"/>\n<polygon fill=\"black\" stroke=\"black\" points=\"172.776,-74.8941 164.483,-68.2996 166.853,-78.6259 172.776,-74.8941\"/>\n</g>\n<!-- 4 -->\n<g id=\"node5\" class=\"node\"><title>4</title>\n<path fill=\"#8139e5\" fill-opacity=\"0.976471\" stroke=\"black\" d=\"M327,-68C327,-68 234,-68 234,-68 228,-68 222,-62 222,-56 222,-56 222,-12 222,-12 222,-6 228,-0 234,-0 234,-0 327,-0 327,-0 333,-0 339,-6 339,-12 339,-12 339,-56 339,-56 339,-62 333,-68 327,-68\"/>\n<text text-anchor=\"start\" x=\"245\" y=\"-52.8\" font-family=\"Helvetica,sans-Serif\" font-size=\"14.00\">gini = 0.043</text>\n<text text-anchor=\"start\" x=\"239.5\" y=\"-37.8\" font-family=\"Helvetica,sans-Serif\" font-size=\"14.00\">samples = 46</text>\n<text text-anchor=\"start\" x=\"230\" y=\"-22.8\" font-family=\"Helvetica,sans-Serif\" font-size=\"14.00\">value = [0, 1, 45]</text>\n<text text-anchor=\"start\" x=\"232\" y=\"-7.8\" font-family=\"Helvetica,sans-Serif\" font-size=\"14.00\">class = virginica</text>\n</g>\n<!-- 2&#45;&gt;4 -->\n<g id=\"edge4\" class=\"edge\"><title>2&#45;&gt;4</title>\n<path fill=\"none\" stroke=\"black\" d=\"M237.821,-103.726C243.258,-94.9703 249.013,-85.7032 254.477,-76.9051\"/>\n<polygon fill=\"black\" stroke=\"black\" points=\"257.519,-78.6413 259.821,-68.2996 251.572,-74.9484 257.519,-78.6413\"/>\n</g>\n</g>\n</svg>\n"
          },
          "metadata": {}
        }
      ]
    },
    {
      "metadata": {},
      "cell_type": "markdown",
      "source": "Great! This is the actual tree that you just trained using **<font color=red>.fit(X,y)</font>**."
    },
    {
      "metadata": {},
      "cell_type": "markdown",
      "source": "### Note\nFor this notebook, we are only interested in how to train a decision tree using Scikit-learn package. Therefore, I did not split the entire Iris dataset into training and validation sets. For practical ML problems, you always should split your data into at least two sets: training and validation sets, and ideally, three sets: training, validation and testing sets."
    },
    {
      "metadata": {},
      "cell_type": "markdown",
      "source": "## 2. Regression\nAs we discussed in class, Decision Trees are also capable of performing regression tasks. Next, let us first generate a synthetic set of data and then perform a regression using Decision Trees."
    },
    {
      "metadata": {},
      "cell_type": "markdown",
      "source": "### 2.1 Generate synthetic data"
    },
    {
      "metadata": {
        "trusted": true
      },
      "cell_type": "code",
      "source": "# Quadratic training set + noise\nnp.random.seed(42)\nm = 200\nX = np.random.rand(m, 1)\ny = 4 * (X - 0.5) ** 2\ny = y + np.random.randn(m, 1) / 10\n\nplt.plot(X,y,'b.')\nplt.axis([0, 1, -0.2, 1])\nplt.xlabel(\"$x_1$\", fontsize=18)\nplt.ylabel(\"$y$\",fontsize=18,rotation=0)",
      "execution_count": 8,
      "outputs": [
        {
          "output_type": "execute_result",
          "execution_count": 8,
          "data": {
            "text/plain": "Text(0,0.5,'$y$')"
          },
          "metadata": {}
        },
        {
          "output_type": "display_data",
          "data": {
            "image/png": "[encoded data removed]",
            "text/plain": "<matplotlib.figure.Figure at 0x7fc60fa9a898>"
          },
          "metadata": {}
        }
      ]
    },
    {
      "metadata": {},
      "cell_type": "markdown",
      "source": "### 2.2 Import the regression version of Decision Trees"
    },
    {
      "metadata": {
        "trusted": true
      },
      "cell_type": "code",
      "source": "from sklearn.tree import DecisionTreeRegressor",
      "execution_count": 9,
      "outputs": []
    },
    {
      "metadata": {},
      "cell_type": "markdown",
      "source": "Pay attention to the name of the module we imports which is differnt from the name of the module for classification."
    },
    {
      "metadata": {},
      "cell_type": "markdown",
      "source": "### 2.3 Set up classifier"
    },
    {
      "metadata": {
        "trusted": true
      },
      "cell_type": "code",
      "source": "tree_reg = DecisionTreeRegressor(max_depth=2, random_state=42)",
      "execution_count": 10,
      "outputs": []
    },
    {
      "metadata": {},
      "cell_type": "markdown",
      "source": "I set max_depth = 2. Again, feel free to play with it."
    },
    {
      "metadata": {},
      "cell_type": "markdown",
      "source": "### 2.3 Training"
    },
    {
      "metadata": {
        "trusted": true
      },
      "cell_type": "code",
      "source": "tree_reg.fit(X, y)",
      "execution_count": 11,
      "outputs": [
        {
          "output_type": "execute_result",
          "execution_count": 11,
          "data": {
            "text/plain": "DecisionTreeRegressor(criterion='mse', max_depth=2, max_features=None,\n           max_leaf_nodes=None, min_impurity_decrease=0.0,\n           min_impurity_split=None, min_samples_leaf=1,\n           min_samples_split=2, min_weight_fraction_leaf=0.0,\n           presort=False, random_state=42, splitter='best')"
          },
          "metadata": {}
        }
      ]
    },
    {
      "metadata": {},
      "cell_type": "markdown",
      "source": "### 2.4 Visualization"
    },
    {
      "metadata": {
        "trusted": true
      },
      "cell_type": "code",
      "source": "def plot_regression_predictions(tree_reg, X, y, axes=[0, 1, -0.2, 1], ylabel=\"$y$\"):\n    x1 = np.linspace(axes[0], axes[1], 500).reshape(-1, 1)\n    y_pred = tree_reg.predict(x1)\n    plt.axis(axes)\n    plt.xlabel(\"$x_1$\", fontsize=18)\n    if ylabel:\n        plt.ylabel(ylabel, fontsize=18, rotation=0)\n    plt.plot(X, y, \"b.\")\n    plt.plot(x1, y_pred, \"r.-\", linewidth=2, label=r\"$\\hat{y}$\")\n\nplt.figure(figsize=(11, 4))\nplot_regression_predictions(tree_reg, X, y)\nfor split, style in ((0.1973, \"k-\"), (0.0917, \"k--\"), (0.7718, \"k--\")):\n    plt.plot([split, split], [-0.2, 1], style, linewidth=2)\nplt.text(0.21, 0.65, \"Depth=0\", fontsize=15)\nplt.text(0.01, 0.2, \"Depth=1\", fontsize=13)\nplt.text(0.65, 0.8, \"Depth=1\", fontsize=13)\nplt.legend(loc=\"upper center\", fontsize=18)\nplt.title(\"max_depth=2\", fontsize=14)\n\nplt.show()",
      "execution_count": 12,
      "outputs": [
        {
          "output_type": "display_data",
          "data": {
            "image/png": "[encoded data removed]",
            "text/plain": "<matplotlib.figure.Figure at 0x7fc60f676a90>"
          },
          "metadata": {}
        }
      ]
    },
    {
      "metadata": {},
      "cell_type": "markdown",
      "source": "Alternatively, we can also export the decision tree using *export_graphviz*."
    },
    {
      "metadata": {
        "trusted": true
      },
      "cell_type": "code",
      "source": "dot_data = export_graphviz(\n        tree_reg,\n        out_file=None,\n        feature_names=[\"x1\"],\n        rounded=True,\n        filled=True\n    )",
      "execution_count": 13,
      "outputs": []
    },
    {
      "metadata": {
        "trusted": true
      },
      "cell_type": "code",
      "source": "graph = graphviz.Source(dot_data)  \ngraph ",
      "execution_count": 14,
      "outputs": [
        {
          "output_type": "execute_result",
          "execution_count": 14,
          "data": {
            "text/plain": "<graphviz.files.Source at 0x7fc60f3dc240>",
            "image/svg+xml": "<?xml version=\"1.0\" encoding=\"UTF-8\" standalone=\"no\"?>\n<!DOCTYPE svg PUBLIC \"-//W3C//DTD SVG 1.1//EN\"\n \"http://www.w3.org/Graphics/SVG/1.1/DTD/svg11.dtd\">\n<!-- Generated by graphviz version 2.38.0 (20140413.2041)\n -->\n<!-- Title: Tree Pages: 1 -->\n<svg width=\"462pt\" height=\"269pt\"\n viewBox=\"0.00 0.00 462.00 269.00\" xmlns=\"http://www.w3.org/2000/svg\" xmlns:xlink=\"http://www.w3.org/1999/xlink\">\n<g id=\"graph0\" class=\"graph\" transform=\"scale(1 1) rotate(0) translate(4 265)\">\n<title>Tree</title>\n<polygon fill=\"white\" stroke=\"none\" points=\"-4,4 -4,-265 458,-265 458,4 -4,4\"/>\n<!-- 0 -->\n<g id=\"node1\" class=\"node\"><title>0</title>\n<path fill=\"#e58139\" fill-opacity=\"0.325490\" stroke=\"black\" d=\"M266,-261C266,-261 184,-261 184,-261 178,-261 172,-255 172,-249 172,-249 172,-205 172,-205 172,-199 178,-193 184,-193 184,-193 266,-193 266,-193 272,-193 278,-199 278,-205 278,-205 278,-249 278,-249 278,-255 272,-261 266,-261\"/>\n<text text-anchor=\"middle\" x=\"225\" y=\"-245.8\" font-family=\"Helvetica,sans-Serif\" font-size=\"14.00\">x1 &lt;= 0.197</text>\n<text text-anchor=\"middle\" x=\"225\" y=\"-230.8\" font-family=\"Helvetica,sans-Serif\" font-size=\"14.00\">mse = 0.098</text>\n<text text-anchor=\"middle\" x=\"225\" y=\"-215.8\" font-family=\"Helvetica,sans-Serif\" font-size=\"14.00\">samples = 200</text>\n<text text-anchor=\"middle\" x=\"225\" y=\"-200.8\" font-family=\"Helvetica,sans-Serif\" font-size=\"14.00\">value = 0.354</text>\n</g>\n<!-- 1 -->\n<g id=\"node2\" class=\"node\"><title>1</title>\n<path fill=\"#e58139\" fill-opacity=\"0.780392\" stroke=\"black\" d=\"M202,-157C202,-157 128,-157 128,-157 122,-157 116,-151 116,-145 116,-145 116,-101 116,-101 116,-95 122,-89 128,-89 128,-89 202,-89 202,-89 208,-89 214,-95 214,-101 214,-101 214,-145 214,-145 214,-151 208,-157 202,-157\"/>\n<text text-anchor=\"middle\" x=\"165\" y=\"-141.8\" font-family=\"Helvetica,sans-Serif\" font-size=\"14.00\">x1 &lt;= 0.092</text>\n<text text-anchor=\"middle\" x=\"165\" y=\"-126.8\" font-family=\"Helvetica,sans-Serif\" font-size=\"14.00\">mse = 0.038</text>\n<text text-anchor=\"middle\" x=\"165\" y=\"-111.8\" font-family=\"Helvetica,sans-Serif\" font-size=\"14.00\">samples = 44</text>\n<text text-anchor=\"middle\" x=\"165\" y=\"-96.8\" font-family=\"Helvetica,sans-Serif\" font-size=\"14.00\">value = 0.689</text>\n</g>\n<!-- 0&#45;&gt;1 -->\n<g id=\"edge1\" class=\"edge\"><title>0&#45;&gt;1</title>\n<path fill=\"none\" stroke=\"black\" d=\"M205.52,-192.884C200.49,-184.332 195.008,-175.013 189.748,-166.072\"/>\n<polygon fill=\"black\" stroke=\"black\" points=\"192.675,-164.144 184.588,-157.299 186.641,-167.693 192.675,-164.144\"/>\n<text text-anchor=\"middle\" x=\"178.314\" y=\"-177.799\" font-family=\"Helvetica,sans-Serif\" font-size=\"14.00\">True</text>\n</g>\n<!-- 4 -->\n<g id=\"node5\" class=\"node\"><title>4</title>\n<path fill=\"#e58139\" fill-opacity=\"0.200000\" stroke=\"black\" d=\"M326,-157C326,-157 244,-157 244,-157 238,-157 232,-151 232,-145 232,-145 232,-101 232,-101 232,-95 238,-89 244,-89 244,-89 326,-89 326,-89 332,-89 338,-95 338,-101 338,-101 338,-145 338,-145 338,-151 332,-157 326,-157\"/>\n<text text-anchor=\"middle\" x=\"285\" y=\"-141.8\" font-family=\"Helvetica,sans-Serif\" font-size=\"14.00\">x1 &lt;= 0.772</text>\n<text text-anchor=\"middle\" x=\"285\" y=\"-126.8\" font-family=\"Helvetica,sans-Serif\" font-size=\"14.00\">mse = 0.074</text>\n<text text-anchor=\"middle\" x=\"285\" y=\"-111.8\" font-family=\"Helvetica,sans-Serif\" font-size=\"14.00\">samples = 156</text>\n<text text-anchor=\"middle\" x=\"285\" y=\"-96.8\" font-family=\"Helvetica,sans-Serif\" font-size=\"14.00\">value = 0.259</text>\n</g>\n<!-- 0&#45;&gt;4 -->\n<g id=\"edge4\" class=\"edge\"><title>0&#45;&gt;4</title>\n<path fill=\"none\" stroke=\"black\" d=\"M244.48,-192.884C249.51,-184.332 254.992,-175.013 260.252,-166.072\"/>\n<polygon fill=\"black\" stroke=\"black\" points=\"263.359,-167.693 265.412,-157.299 257.325,-164.144 263.359,-167.693\"/>\n<text text-anchor=\"middle\" x=\"271.686\" y=\"-177.799\" font-family=\"Helvetica,sans-Serif\" font-size=\"14.00\">False</text>\n</g>\n<!-- 2 -->\n<g id=\"node3\" class=\"node\"><title>2</title>\n<path fill=\"#e58139\" stroke=\"black\" d=\"M86,-53C86,-53 12,-53 12,-53 6,-53 7.10543e-15,-47 7.10543e-15,-41 7.10543e-15,-41 7.10543e-15,-12 7.10543e-15,-12 7.10543e-15,-6 6,-0 12,-0 12,-0 86,-0 86,-0 92,-0 98,-6 98,-12 98,-12 98,-41 98,-41 98,-47 92,-53 86,-53\"/>\n<text text-anchor=\"middle\" x=\"49\" y=\"-37.8\" font-family=\"Helvetica,sans-Serif\" font-size=\"14.00\">mse = 0.018</text>\n<text text-anchor=\"middle\" x=\"49\" y=\"-22.8\" font-family=\"Helvetica,sans-Serif\" font-size=\"14.00\">samples = 20</text>\n<text text-anchor=\"middle\" x=\"49\" y=\"-7.8\" font-family=\"Helvetica,sans-Serif\" font-size=\"14.00\">value = 0.854</text>\n</g>\n<!-- 1&#45;&gt;2 -->\n<g id=\"edge2\" class=\"edge\"><title>1&#45;&gt;2</title>\n<path fill=\"none\" stroke=\"black\" d=\"M124.429,-88.9485C112.75,-79.4346 100.033,-69.074 88.4247,-59.6175\"/>\n<polygon fill=\"black\" stroke=\"black\" points=\"90.5557,-56.8392 80.5921,-53.2367 86.1345,-62.2663 90.5557,-56.8392\"/>\n</g>\n<!-- 3 -->\n<g id=\"node4\" class=\"node\"><title>3</title>\n<path fill=\"#e58139\" fill-opacity=\"0.596078\" stroke=\"black\" d=\"M202,-53C202,-53 128,-53 128,-53 122,-53 116,-47 116,-41 116,-41 116,-12 116,-12 116,-6 122,-0 128,-0 128,-0 202,-0 202,-0 208,-0 214,-6 214,-12 214,-12 214,-41 214,-41 214,-47 208,-53 202,-53\"/>\n<text text-anchor=\"middle\" x=\"165\" y=\"-37.8\" font-family=\"Helvetica,sans-Serif\" font-size=\"14.00\">mse = 0.013</text>\n<text text-anchor=\"middle\" x=\"165\" y=\"-22.8\" font-family=\"Helvetica,sans-Serif\" font-size=\"14.00\">samples = 24</text>\n<text text-anchor=\"middle\" x=\"165\" y=\"-7.8\" font-family=\"Helvetica,sans-Serif\" font-size=\"14.00\">value = 0.552</text>\n</g>\n<!-- 1&#45;&gt;3 -->\n<g id=\"edge3\" class=\"edge\"><title>1&#45;&gt;3</title>\n<path fill=\"none\" stroke=\"black\" d=\"M165,-88.9485C165,-80.7153 165,-71.848 165,-63.4814\"/>\n<polygon fill=\"black\" stroke=\"black\" points=\"168.5,-63.2367 165,-53.2367 161.5,-63.2367 168.5,-63.2367\"/>\n</g>\n<!-- 5 -->\n<g id=\"node6\" class=\"node\"><title>5</title>\n<path fill=\"none\" stroke=\"black\" d=\"M326,-53C326,-53 244,-53 244,-53 238,-53 232,-47 232,-41 232,-41 232,-12 232,-12 232,-6 238,-0 244,-0 244,-0 326,-0 326,-0 332,-0 338,-6 338,-12 338,-12 338,-41 338,-41 338,-47 332,-53 326,-53\"/>\n<text text-anchor=\"middle\" x=\"285\" y=\"-37.8\" font-family=\"Helvetica,sans-Serif\" font-size=\"14.00\">mse = 0.015</text>\n<text text-anchor=\"middle\" x=\"285\" y=\"-22.8\" font-family=\"Helvetica,sans-Serif\" font-size=\"14.00\">samples = 110</text>\n<text text-anchor=\"middle\" x=\"285\" y=\"-7.8\" font-family=\"Helvetica,sans-Serif\" font-size=\"14.00\">value = 0.111</text>\n</g>\n<!-- 4&#45;&gt;5 -->\n<g id=\"edge5\" class=\"edge\"><title>4&#45;&gt;5</title>\n<path fill=\"none\" stroke=\"black\" d=\"M285,-88.9485C285,-80.7153 285,-71.848 285,-63.4814\"/>\n<polygon fill=\"black\" stroke=\"black\" points=\"288.5,-63.2367 285,-53.2367 281.5,-63.2367 288.5,-63.2367\"/>\n</g>\n<!-- 6 -->\n<g id=\"node7\" class=\"node\"><title>6</title>\n<path fill=\"#e58139\" fill-opacity=\"0.678431\" stroke=\"black\" d=\"M442,-53C442,-53 368,-53 368,-53 362,-53 356,-47 356,-41 356,-41 356,-12 356,-12 356,-6 362,-0 368,-0 368,-0 442,-0 442,-0 448,-0 454,-6 454,-12 454,-12 454,-41 454,-41 454,-47 448,-53 442,-53\"/>\n<text text-anchor=\"middle\" x=\"405\" y=\"-37.8\" font-family=\"Helvetica,sans-Serif\" font-size=\"14.00\">mse = 0.036</text>\n<text text-anchor=\"middle\" x=\"405\" y=\"-22.8\" font-family=\"Helvetica,sans-Serif\" font-size=\"14.00\">samples = 46</text>\n<text text-anchor=\"middle\" x=\"405\" y=\"-7.8\" font-family=\"Helvetica,sans-Serif\" font-size=\"14.00\">value = 0.615</text>\n</g>\n<!-- 4&#45;&gt;6 -->\n<g id=\"edge6\" class=\"edge\"><title>4&#45;&gt;6</title>\n<path fill=\"none\" stroke=\"black\" d=\"M326.97,-88.9485C339.051,-79.4346 352.208,-69.074 364.216,-59.6175\"/>\n<polygon fill=\"black\" stroke=\"black\" points=\"366.628,-62.1734 372.318,-53.2367 362.297,-56.6739 366.628,-62.1734\"/>\n</g>\n</g>\n</svg>\n"
          },
          "metadata": {}
        }
      ]
    },
    {
      "metadata": {},
      "cell_type": "markdown",
      "source": "### I hope this notebook gives you a better sense of how decision tree works and how it is implemented using Scikit-Learn."
    }
  ],
  "metadata": {
    "kernelspec": {
      "name": "python3",
      "display_name": "Python 3",
      "language": "python"
    },
    "language_info": {
      "mimetype": "text/x-python",
      "nbconvert_exporter": "python",
      "name": "python",
      "pygments_lexer": "ipython3",
      "version": "3.5.4",
      "file_extension": ".py",
      "codemirror_mode": {
        "version": 3,
        "name": "ipython"
      }
    }
  },
  "nbformat": 4,
  "nbformat_minor": 2
}