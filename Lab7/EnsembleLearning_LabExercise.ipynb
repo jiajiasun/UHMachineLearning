{
  "cells": [
    {
      "metadata": {},
      "cell_type": "markdown",
      "source": "# Classifying seismic P-wave receiver functions using Ensemble Learning"
    },
    {
      "metadata": {},
      "cell_type": "markdown",
      "source": "The goal of this lab exercise is to get students familiar with the Scikit-Learn implementation of **Ensemble Learning** methods, in  particular, the **boosting** methods. \n\nSimilar to previous two lab exercise, your task is to classify the P-wave receiver functions, which were computed based on the recorded seismic data, into two categories: good and bad. The entire data set consists of 12,597 receiver functions (i.e., seismic traces), each of which was visually examined and manually labeled as either good or bad by one of Prof. Aibing Li's PhD students, Ying Zhang, in the Department of Earth and Atmospheric Sciences at University of Houston. The good seismic traces are labled (or, encoded) as 1, and bad seismic traces are encoded as 0. <br>\n\nAfter finishing this exercise, you can expect to <br>\n1. be able to implement AdaBoost and Gradient Boosting using Scikit-Learn; and <br>\n2. be able to fune tune the hyperparameters such as **max_depth**, **n_estimators** and **learning_rate**. <br>\n\n<br>\nAuthor: Jiajia Sun @ University of Houston, 03/07/2019"
    },
    {
      "metadata": {},
      "cell_type": "markdown",
      "source": "## Import data"
    },
    {
      "metadata": {
        "trusted": true
      },
      "cell_type": "code",
      "source": "import numpy as np\nimport h5py\nwith h5py.File(\"../Traces_qc.mat\") as f:\n    ampdata = [f[element[0]][:] for element in f[\"Data\"][\"amps\"]]\n    flag = [f[element[0]][:] for element in f[\"Data\"][\"Flags\"]]\n    ntr = [f[element[0]][:] for element in f[\"Data\"][\"ntr\"]]\n    time = [f[element[0]][:] for element in f[\"Data\"][\"time\"]]\n    staname = [f[element[0]][:] for element in f[\"Data\"][\"staname\"]]\n    \nampall = np.zeros((1,651))\nflagall = np.zeros(1)\nfor i in np.arange(201):\n    ampall = np.vstack((ampall, ampdata[i]))\n    flagall = np.vstack((flagall, flag[i]))\namp_data = np.delete(ampall, 0, 0)\nlabel_data = np.delete(flagall, 0, 0)",
      "execution_count": 1,
      "outputs": [
        {
          "output_type": "stream",
          "text": "/home/nbuser/anaconda3_420/lib/python3.5/site-packages/h5py/__init__.py:36: FutureWarning: Conversion of the second argument of issubdtype from `float` to `np.floating` is deprecated. In future, it will be treated as `np.float64 == np.dtype(float).type`.\n  from ._conv import register_converters as _register_converters\n",
          "name": "stderr"
        }
      ]
    },
    {
      "metadata": {
        "trusted": true
      },
      "cell_type": "code",
      "source": "np.random.seed(42)\nall_data = np.append(amp_data,label_data,1) # put all the seismic traces and their lables into one matrix.",
      "execution_count": 2,
      "outputs": []
    },
    {
      "metadata": {},
      "cell_type": "markdown",
      "source": "Next, we randomly permute the data (i.e., the rows in the matrix *all_data* that was just construted above)."
    },
    {
      "metadata": {
        "trusted": true
      },
      "cell_type": "code",
      "source": "all_data_permute = all_data[np.random.permutation(all_data.shape[0]),:] ",
      "execution_count": 3,
      "outputs": []
    },
    {
      "metadata": {},
      "cell_type": "markdown",
      "source": "Similar to previous lab exercises, we split the whole data set into training and validation sets. BTW, in Scikit-Learn, there is a module called [train_test_split](http://scikit-learn.org/stable/modules/generated/sklearn.model_selection.train_test_split.html) that can automatically split the dataset for you. But for this exercise, we are not going to use that. To keep things consistent, we do the splitting in the same way as in previous lab exercises."
    },
    {
      "metadata": {
        "trusted": true
      },
      "cell_type": "code",
      "source": "X_train = all_data_permute[:10000,:-1]\ny_train = all_data_permute[:10000,-1]\n\nX_validation = all_data_permute[10000:,:-1]\ny_validation = all_data_permute[10000:,-1]",
      "execution_count": 4,
      "outputs": []
    },
    {
      "metadata": {},
      "cell_type": "markdown",
      "source": "## Train an AdaBoostClassifier"
    },
    {
      "metadata": {},
      "cell_type": "markdown",
      "source": "To learn more about AdaBoostClassifier as implemented in Scikit-Learn, please click [here](http://scikit-learn.org/stable/modules/generated/sklearn.ensemble.AdaBoostClassifier.html). <br>"
    },
    {
      "metadata": {},
      "cell_type": "markdown",
      "source": "### Standard AdaBoostClassifier\nOne thing you need to specify in order to run AdaBoostClassifier is the base estimator. If you forget what a base estimator is, please refer to Slide 52. "
    },
    {
      "metadata": {},
      "cell_type": "markdown",
      "source": "Now, let us import AdaBoostClassifier."
    },
    {
      "metadata": {
        "trusted": true
      },
      "cell_type": "code",
      "source": "from sklearn.ensemble import AdaBoostClassifier",
      "execution_count": 5,
      "outputs": [
        {
          "output_type": "stream",
          "text": "/home/nbuser/anaconda3_420/lib/python3.5/site-packages/sklearn/ensemble/weight_boosting.py:29: DeprecationWarning: numpy.core.umath_tests is an internal NumPy module and should not be imported. It will be removed in a future NumPy release.\n  from numpy.core.umath_tests import inner1d\n",
          "name": "stderr"
        }
      ]
    },
    {
      "metadata": {},
      "cell_type": "markdown",
      "source": "For illustration purposes, I am going to use [DecisionTreeClassifier](http://scikit-learn.org/stable/modules/generated/sklearn.tree.DecisionTreeClassifier.html) as my base estimator. The number of Decision Trees in my ensemble is 200. Again, this is only for illustrating how to set up **AdaBoostClassifier**. Please feel free to use any other classification algorithm. <br>\n<br>\nBecause I decide to use **DecisionTreeClassifier** as my base estimator, I also need to import **DecisionTreeClassifier** from sklearn."
    },
    {
      "metadata": {
        "trusted": true
      },
      "cell_type": "code",
      "source": "from sklearn.tree import DecisionTreeClassifier",
      "execution_count": 6,
      "outputs": []
    },
    {
      "metadata": {},
      "cell_type": "markdown",
      "source": "The next line of code shows how I set up the **AdaBoostClassifier**."
    },
    {
      "metadata": {
        "trusted": true
      },
      "cell_type": "code",
      "source": "rf_clf = AdaBoostClassifier(DecisionTreeClassifier(max_depth = 2), n_estimators=100, learning_rate = 0.5, random_state = 42)",
      "execution_count": 7,
      "outputs": []
    },
    {
      "metadata": {},
      "cell_type": "markdown",
      "source": "As always, please set your *random_state* = 42, so that whenven random sampling is involved, we all get the same sampling results."
    },
    {
      "metadata": {},
      "cell_type": "markdown",
      "source": "One more thing before we proceed to train an **AdaBoostClassifier**. That is, learning rate. For **AdaBoost**, remember that at each iteration we adaptively adjust the weights on each sample, depending on how well they were classified by the previous predictor. The learning rate decides how much adjusment is going to happen to the samples. <br>\n<br>\nFor example, the following figure shows the decision boundaries of five consecutive predictors on the [moons](http://scikit-learn.org/stable/modules/generated/sklearn.datasets.make_moons.html) dataset. In the left figure, the decision boundaries learned from these five consecutive predictors are indicated by the integer numbers. We observe that, the first classifier gets many instances wrongly labeled. Then, at the next iteration, the weights of these misclassified lables get boosted. The second classifier, therefore, ends up doing a better job classifying these instances. This process repeats until all the **n_estimators** are included in the ensemble. The plot on the right represents the same sequence but with learning rate halved. That is, the weights on the misclassified instances only get boosted half as much at every iteration. That is why you observe that the decision boundaries learned with **learning_rate** = 0.5 are updated more slowly.<br> \n\n<img src = \"Learning_Rate.png\">"
    },
    {
      "metadata": {},
      "cell_type": "markdown",
      "source": "Now, we are ready to train an AdaBoostClassifier."
    },
    {
      "metadata": {
        "trusted": true
      },
      "cell_type": "code",
      "source": "rf_clf.fit(X_train, y_train)",
      "execution_count": 8,
      "outputs": [
        {
          "output_type": "execute_result",
          "execution_count": 8,
          "data": {
            "text/plain": "AdaBoostClassifier(algorithm='SAMME.R',\n          base_estimator=DecisionTreeClassifier(class_weight=None, criterion='gini', max_depth=2,\n            max_features=None, max_leaf_nodes=None,\n            min_impurity_decrease=0.0, min_impurity_split=None,\n            min_samples_leaf=1, min_samples_split=2,\n            min_weight_fraction_leaf=0.0, presort=False, random_state=None,\n            splitter='best'),\n          learning_rate=0.5, n_estimators=100, random_state=42)"
          },
          "metadata": {}
        }
      ]
    },
    {
      "metadata": {},
      "cell_type": "markdown",
      "source": "Now, make predictions on the validation dataset using the AdaBoostClassifier that you just trained above."
    },
    {
      "metadata": {
        "trusted": true
      },
      "cell_type": "code",
      "source": "y_pred = rf_clf.predict(X_validation)",
      "execution_count": 9,
      "outputs": []
    },
    {
      "metadata": {},
      "cell_type": "markdown",
      "source": "As usual, print out the classification report."
    },
    {
      "metadata": {
        "trusted": true
      },
      "cell_type": "code",
      "source": "from sklearn.metrics import classification_report\nprint(classification_report(y_validation, y_pred, target_names=['bad','good']))",
      "execution_count": 10,
      "outputs": [
        {
          "output_type": "stream",
          "text": "             precision    recall  f1-score   support\n\n        bad       0.93      0.94      0.93      1994\n       good       0.79      0.75      0.77       603\n\navg / total       0.90      0.90      0.90      2597\n\n",
          "name": "stdout"
        }
      ]
    },
    {
      "metadata": {},
      "cell_type": "markdown",
      "source": "You can calculate the prediction error on training data as follows."
    },
    {
      "metadata": {
        "trusted": true
      },
      "cell_type": "code",
      "source": "1 - rf_clf.score(X_train, y_train)",
      "execution_count": 11,
      "outputs": [
        {
          "output_type": "execute_result",
          "execution_count": 11,
          "data": {
            "text/plain": "0.04920000000000002"
          },
          "metadata": {}
        }
      ]
    },
    {
      "metadata": {},
      "cell_type": "markdown",
      "source": "Similarly, the prediction error on validation data can be calculated as follow."
    },
    {
      "metadata": {
        "trusted": true
      },
      "cell_type": "code",
      "source": "1 - rf_clf.score(X_validation,y_validation)",
      "execution_count": 12,
      "outputs": [
        {
          "output_type": "execute_result",
          "execution_count": 12,
          "data": {
            "text/plain": "0.10319599537928381"
          },
          "metadata": {}
        }
      ]
    },
    {
      "metadata": {},
      "cell_type": "markdown",
      "source": "### AdaBoostClassifier with balanced class_weight"
    },
    {
      "metadata": {},
      "cell_type": "markdown",
      "source": "Alternatively, you can train another AdaBoostClassifier by setting **class_weight** to **'balanced'**. You did something similar in previous lab exercise for Random Forests. This parameter can be used to balance the training samples for which the number of samples in each classe is very different from each other."
    },
    {
      "metadata": {
        "trusted": true
      },
      "cell_type": "code",
      "source": "rf_clf = AdaBoostClassifier(DecisionTreeClassifier(max_depth = 2, class_weight = 'balanced'), n_estimators=100, learning_rate = 0.5, random_state = 42)",
      "execution_count": 13,
      "outputs": []
    },
    {
      "metadata": {
        "trusted": true
      },
      "cell_type": "code",
      "source": "rf_clf.fit(X_train, y_train)",
      "execution_count": 14,
      "outputs": [
        {
          "output_type": "execute_result",
          "execution_count": 14,
          "data": {
            "text/plain": "AdaBoostClassifier(algorithm='SAMME.R',\n          base_estimator=DecisionTreeClassifier(class_weight='balanced', criterion='gini', max_depth=2,\n            max_features=None, max_leaf_nodes=None,\n            min_impurity_decrease=0.0, min_impurity_split=None,\n            min_samples_leaf=1, min_samples_split=2,\n            min_weight_fraction_leaf=0.0, presort=False, random_state=None,\n            splitter='best'),\n          learning_rate=0.5, n_estimators=100, random_state=42)"
          },
          "metadata": {}
        }
      ]
    },
    {
      "metadata": {
        "trusted": true
      },
      "cell_type": "code",
      "source": "y_pred = rf_clf.predict(X_validation)",
      "execution_count": 15,
      "outputs": []
    },
    {
      "metadata": {
        "trusted": true
      },
      "cell_type": "code",
      "source": "print(classification_report(y_validation, y_pred, target_names=['bad','good']))",
      "execution_count": 16,
      "outputs": [
        {
          "output_type": "stream",
          "text": "             precision    recall  f1-score   support\n\n        bad       0.95      0.90      0.93      1994\n       good       0.72      0.85      0.78       603\n\navg / total       0.90      0.89      0.89      2597\n\n",
          "name": "stdout"
        }
      ]
    },
    {
      "metadata": {
        "trusted": true
      },
      "cell_type": "code",
      "source": "# The following code is based on a modification of the codes in this webpage\n# http://scikit-learn.org/stable/auto_examples/ensemble/plot_forest_importances.html\nimportances = rf_clf.feature_importances_\nindices = np.argsort(importances)[::-1]\n\n# Print the feature ranking\nprint(\"Feature ranking:\")\n\nfor f in range(10):\n    print(\"%d. feature %d (%f)\" % (f + 1, indices[f], importances[indices[f]]))\n\n# Plot the feature importances of the forest\nimport matplotlib.pyplot as plt\nplt.figure()\nplt.title(\"Feature importances\")\nplt.bar(range(50), importances[indices][:50])\nplt.xticks(range(50), indices, rotation = 90)\nplt.xlim([-1, 50])\nplt.tight_layout()\nplt.show()",
      "execution_count": 18,
      "outputs": [
        {
          "output_type": "stream",
          "text": "Feature ranking:\n1. feature 49 (0.053462)\n2. feature 50 (0.038199)\n3. feature 54 (0.019763)\n4. feature 51 (0.016490)\n5. feature 99 (0.015265)\n6. feature 62 (0.015223)\n7. feature 47 (0.014685)\n8. feature 48 (0.014045)\n9. feature 53 (0.014040)\n10. feature 155 (0.013670)\n",
          "name": "stdout"
        },
        {
          "output_type": "display_data",
          "data": {
            "image/png": "[encoded data removed]",
            "text/plain": "<matplotlib.figure.Figure at 0x7fd30c789080>"
          },
          "metadata": {}
        }
      ]
    },
    {
      "metadata": {
        "trusted": true
      },
      "cell_type": "code",
      "source": "# The prediction error on training data\n1 - rf_clf.score(X_train, y_train)",
      "execution_count": 19,
      "outputs": [
        {
          "output_type": "execute_result",
          "execution_count": 19,
          "data": {
            "text/plain": "0.06489999999999996"
          },
          "metadata": {}
        }
      ]
    },
    {
      "metadata": {
        "trusted": true
      },
      "cell_type": "code",
      "source": "# The prediction error on validation data\n1 - rf_clf.score(X_validation,y_validation)",
      "execution_count": 20,
      "outputs": [
        {
          "output_type": "execute_result",
          "execution_count": 20,
          "data": {
            "text/plain": "0.11166730843280703"
          },
          "metadata": {}
        }
      ]
    },
    {
      "metadata": {},
      "cell_type": "markdown",
      "source": "## Train a GradientBoostingClassifier\nTo learn more about how GradientBoostingClassifier is implemented in Scikit-Learn, please click [here](http://scikit-learn.org/stable/modules/generated/sklearn.ensemble.GradientBoostingClassifier.html)."
    },
    {
      "metadata": {},
      "cell_type": "markdown",
      "source": "The first thing to do is import **GradientBoostingClassifier** from Scikit-Learn."
    },
    {
      "metadata": {
        "trusted": true
      },
      "cell_type": "code",
      "source": "from sklearn.ensemble import GradientBoostingClassifier",
      "execution_count": 21,
      "outputs": []
    },
    {
      "metadata": {},
      "cell_type": "markdown",
      "source": "Next, set up **GradientBoostingClassifier** by assigning values to the hyperparameters such as max_depth, n_estimators, learning_rate, etc. **Note:** For gradient boosting, you do not need to choose the base estimator, beccause the base estimator has been defaulted to **Decision Trees**. Also, for **GradientBoostingClassifier**, there is no **class_weight**.<br>\n<br>\nFor **GradientBoostingClassifier**, the learning_rate scales (more precisely, shrinks) the contribution of each tree. If **learning_rate** is too small, such as 0.1, you will need many trees in the ensemble to fit the training data. The following figure shows two ensembles trained by **GradientBoostingRegressor** with **learning_rate** = 0.1. The one on the left does not have enough trees to fit the training data, while the one on the right has too many trees and overfits the training data. <br>\n\n<img src = \"GBlearning.PNG\">\n\nTo give you a better understanding of **learning_rate**, the following example compares the predictors learned by **GradientBoostingRegressor** with two different learning rates. \n<br>\n\n<img src = \"GBlearning2.png\">"
    },
    {
      "metadata": {},
      "cell_type": "markdown",
      "source": "With a good understanding of these hyperparameters, now we are ready to set up our **GradientBoostingClassifier**."
    },
    {
      "metadata": {
        "trusted": true
      },
      "cell_type": "code",
      "source": "gtb = GradientBoostingClassifier(max_depth = 2, n_estimators = 200, learning_rate = 0.5, random_state=42)",
      "execution_count": 22,
      "outputs": []
    },
    {
      "metadata": {
        "trusted": true
      },
      "cell_type": "code",
      "source": "gtb.fit(X_train, y_train)",
      "execution_count": 23,
      "outputs": [
        {
          "output_type": "execute_result",
          "execution_count": 23,
          "data": {
            "text/plain": "GradientBoostingClassifier(criterion='friedman_mse', init=None,\n              learning_rate=0.5, loss='deviance', max_depth=2,\n              max_features=None, max_leaf_nodes=None,\n              min_impurity_decrease=0.0, min_impurity_split=None,\n              min_samples_leaf=1, min_samples_split=2,\n              min_weight_fraction_leaf=0.0, n_estimators=200,\n              presort='auto', random_state=42, subsample=1.0, verbose=0,\n              warm_start=False)"
          },
          "metadata": {}
        }
      ]
    },
    {
      "metadata": {},
      "cell_type": "markdown",
      "source": "After training is done, we need to use the trained predictor (or, classifier) to make predictions on our validation dataset."
    },
    {
      "metadata": {
        "trusted": true
      },
      "cell_type": "code",
      "source": "y_pred = gtb.predict(X_validation)",
      "execution_count": 24,
      "outputs": []
    },
    {
      "metadata": {},
      "cell_type": "markdown",
      "source": "Now, we can print out the classification report."
    },
    {
      "metadata": {
        "trusted": true
      },
      "cell_type": "code",
      "source": "print(classification_report(y_validation, y_pred, target_names=['bad','good']))",
      "execution_count": 25,
      "outputs": [
        {
          "output_type": "stream",
          "text": "             precision    recall  f1-score   support\n\n        bad       0.92      0.94      0.93      1994\n       good       0.79      0.74      0.76       603\n\navg / total       0.89      0.89      0.89      2597\n\n",
          "name": "stdout"
        }
      ]
    },
    {
      "metadata": {
        "trusted": true
      },
      "cell_type": "code",
      "source": "# The prediction error on training data\n1 - gtb.score(X_train, y_train)",
      "execution_count": 26,
      "outputs": [
        {
          "output_type": "execute_result",
          "execution_count": 26,
          "data": {
            "text/plain": "0.01880000000000004"
          },
          "metadata": {}
        }
      ]
    },
    {
      "metadata": {
        "trusted": true
      },
      "cell_type": "code",
      "source": "# The prediction error on validation data\n1 - gtb.score(X_validation,y_validation)",
      "execution_count": 27,
      "outputs": [
        {
          "output_type": "execute_result",
          "execution_count": 27,
          "data": {
            "text/plain": "0.10589141316904116"
          },
          "metadata": {}
        }
      ]
    },
    {
      "metadata": {},
      "cell_type": "markdown",
      "source": "## Task\nThe prediction errors on validation dataset that I obtained are: 0.10319599537928381 for standard **AdaBoostClassifier**, 0.11166730843280703 for **AdaBoostClassifier** with **balanced class_weight**, and 0.10589141316904116 for **GradientBoostingClassifier**. So, the lowest error that I achieved is 0.10319599537928381, which corresponds to a prediction accuracy of 1-0.10319599537928381 = 0.8968. <br>\n\n<font color = red>**Your task**</font>: do whatever you can to come up with a predictor (or synonymously, classifier) with better predication accuracy. By 'better', I mean better than 0.8968. <font color = red>**(100 points)**</font> <br>\n<br>\n**HINT:** Feel free to try anything you can think of. For example, it is up to you to choose between **AdaBoostClassifier** and **GradientBoostingClassifier**. Or, if you like, you can even create your own ensemble by combining, say, support vector machine, logistic regression and decision trees. Also, feel free to try different values for the hyperparameters such as **max_depth**, **n_estimators**, **learning_rate**, and **class_weight** (not available for Gradient Boosting)."
    },
    {
      "metadata": {},
      "cell_type": "markdown",
      "source": "Note: Please write down your code below. <font color=red>**DO NOT**</font> change the above codes."
    },
    {
      "metadata": {
        "collapsed": true,
        "trusted": false
      },
      "cell_type": "code",
      "source": "",
      "execution_count": null,
      "outputs": []
    },
    {
      "metadata": {},
      "cell_type": "markdown",
      "source": "## Bonus\nIf you achieve a prediction accuracy of **91% or above**, you get <font color = red>**10 bonus points**</font>. <br>\n<br>\nIf you achieve a prediction accuracy of **92% or above**, you will get a <font color = red>**$20 gift card**</font> from a merchant of your choice. (Limited to the first five submissions) <br>\n<br>\nIf you achieve a prediction accuracy of **93% or above**, I will buy you <font color = red>**a dinner at Eric's**</font>."
    },
    {
      "metadata": {},
      "cell_type": "markdown",
      "source": "## Acknowledgments\nI would like to thank Ying Zhang for manually labeling all the seismic traces, and Prof. Aibing Li for making this data set available to the students in this class. I also want to thank Dr. Tianyuan Guan for sponsoring this event (i.e., the gift cards and dinners)! <br>\n\n<img src = \"photo.png\">"
    }
  ],
  "metadata": {
    "kernelspec": {
      "name": "python3",
      "display_name": "Python 3",
      "language": "python"
    },
    "language_info": {
      "mimetype": "text/x-python",
      "nbconvert_exporter": "python",
      "name": "python",
      "file_extension": ".py",
      "version": "3.5.4",
      "pygments_lexer": "ipython3",
      "codemirror_mode": {
        "version": 3,
        "name": "ipython"
      }
    }
  },
  "nbformat": 4,
  "nbformat_minor": 2
}