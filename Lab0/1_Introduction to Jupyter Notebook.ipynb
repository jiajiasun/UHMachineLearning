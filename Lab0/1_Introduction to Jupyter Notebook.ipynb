{
  "cells": [
    {
      "metadata": {},
      "cell_type": "markdown",
      "source": "# A quick intruduction to Jupyter Notebook\nA short tutorial on Jupyter notebook for students enrolled in GEOL 4397 Data Analytics and Machine Learning for Geoscientists. <br>\n\nAurthor: Jiajia Sun at University of Houston, 01/22/2019."
    },
    {
      "metadata": {},
      "cell_type": "markdown",
      "source": "# Section 1: Code cells"
    },
    {
      "metadata": {
        "trusted": true
      },
      "cell_type": "code",
      "source": "name = input('enter your name: ')\nprint('Hello,',name,'! Welcome to Jupyter Notebook!')",
      "execution_count": null,
      "outputs": []
    },
    {
      "metadata": {
        "trusted": true
      },
      "cell_type": "code",
      "source": "b = ['banana','orange','apple', ]\nfor ind, items in enumerate(b):\n    print('Item ' + str(ind+1) + ' is: ' + items)    ",
      "execution_count": null,
      "outputs": []
    },
    {
      "metadata": {
        "trusted": true
      },
      "cell_type": "code",
      "source": "import matplotlib.pyplot as plt\nimport numpy as np\na = np.array([1,2,3,4,5,6,7,8,9,10,11])\nb = np.sin(a)\nplt.plot(a,b,'-ro')\nplt.show()",
      "execution_count": 3,
      "outputs": [
        {
          "data": {
            "image/png": "[encoded data removed]",
            "text/plain": "<matplotlib.figure.Figure at 0x7efeef106a58>"
          },
          "metadata": {},
          "output_type": "display_data"
        }
      ]
    },
    {
      "metadata": {},
      "cell_type": "markdown",
      "source": "# Section 2: Markdown cells"
    },
    {
      "metadata": {},
      "cell_type": "markdown",
      "source": "This is my first *Python* **Jupyter Notebook**."
    },
    {
      "metadata": {},
      "cell_type": "markdown",
      "source": "This is an inline equation $a^2 + b^2 = c^2$. <br>\nAnd this is a displayed equation $$a^2 + b^2 = c^2$$"
    },
    {
      "metadata": {},
      "cell_type": "markdown",
      "source": "# Section 3: Different levels of headings \nThis is section 3. This section contains a few subsections.\n## Section 3.1\nThis is my section 3.1.\n## Section 3.2\nThis is my section 3.2.\n## Section 3.3\nThis is my section 3.3. It contains a few subsubsections.\n### Section 3.3.1\nThis is my section 3.3.1.\n### Section 3.3.2\nThis is my sectioin 3.3.2.\n#### Section 3.3.2.1\nThis is my section 3.3.2.1. And this will be the last level of my headings.\n#### Section 3.3.2.2\nAnd finally, my section 3.3.2.2"
    },
    {
      "metadata": {},
      "cell_type": "markdown",
      "source": "# Section 4: Raw cells"
    },
    {
      "metadata": {},
      "cell_type": "raw",
      "source": "hello, this is a raw cell"
    },
    {
      "metadata": {
        "collapsed": true
      },
      "cell_type": "markdown",
      "source": "# Section 5: Conclusions\n**Jupyter Notebook** is awesome!"
    }
  ],
  "metadata": {
    "kernelspec": {
      "name": "python36",
      "display_name": "Python 3.6",
      "language": "python"
    },
    "language_info": {
      "codemirror_mode": {
        "name": "ipython",
        "version": 3
      },
      "file_extension": ".py",
      "mimetype": "text/x-python",
      "name": "python",
      "nbconvert_exporter": "python",
      "pygments_lexer": "ipython3",
      "version": "3.6.3"
    }
  },
  "nbformat": 4,
  "nbformat_minor": 2
}