{
  "cells": [
    {
      "metadata": {},
      "cell_type": "markdown",
      "source": "# Introduction to Basic Python Programming\nThis notebook serves as a tutorial of basic Python programming. You will become familiar with Python data structures including both the basic and advanced data types. You will also start using Python if statement and loops. At the end of this tutorial, you should be feeling comfortable writing basic Python codes. You will also obtain most of the Python coding knowlege that you need to know in order to finish the lab exercises.\n\nBut keep in mind that the best way to get better at Python coding (or any other  programming language) is to practice it every day!\n\nMany of the example codes in this manual come with comments, which in Python always start with the hash character #, and extend to the end of the physical line. Comments appear only for the purpose of the clarity of codes, and are not interpreted by Python.\n\nPlease run the Python codes in the following cells, and have fun!\n\nAuthor: Jiajia Sun @ University of Houston, 01/22/2019"
    },
    {
      "metadata": {},
      "cell_type": "markdown",
      "source": "# Section 1: Integers"
    },
    {
      "metadata": {
        "trusted": false
      },
      "cell_type": "code",
      "source": "# The first basic Python data type is integers\na = 3\nprint(a)",
      "execution_count": 1,
      "outputs": [
        {
          "name": "stdout",
          "output_type": "stream",
          "text": "3\n"
        }
      ]
    },
    {
      "metadata": {
        "trusted": false
      },
      "cell_type": "code",
      "source": "# All the algebraic operations such as addition, subtraction, division, etc, apply to integers\nb = 5\nc = 13\nprint('b + c =', b + c)\nprint('b - c =', b - c)\nprint('b * c =', b*c)\nprint('b/c =', b/c)\n",
      "execution_count": 2,
      "outputs": [
        {
          "name": "stdout",
          "output_type": "stream",
          "text": "b + c = 18\nb - c = -8\nb * c = 65\nb/c = 0.38461538461538464\n"
        }
      ]
    },
    {
      "metadata": {
        "trusted": false
      },
      "cell_type": "code",
      "source": "# Note the % operator returns the remainder of the division\nd = 17\ne = 3\nprint('17 % 3 =', d%e, 'This is the remainder!')\nprint('17 / 3 =', d/e, 'This is division!')",
      "execution_count": 3,
      "outputs": [
        {
          "name": "stdout",
          "output_type": "stream",
          "text": "17 % 3 = 2 This is the remainder!\n17 / 3 = 5.666666666666667 This is division!\n"
        }
      ]
    },
    {
      "metadata": {},
      "cell_type": "markdown",
      "source": "# Section 2: Floats"
    },
    {
      "metadata": {
        "trusted": false
      },
      "cell_type": "code",
      "source": "# Floats are simply numbers with decimals\nf = 5.678\nprint(f, 'is a floating point number.')",
      "execution_count": 4,
      "outputs": [
        {
          "name": "stdout",
          "output_type": "stream",
          "text": "5.678 is a floating point number.\n"
        }
      ]
    },
    {
      "metadata": {
        "trusted": false
      },
      "cell_type": "code",
      "source": "# Similar to integers, for floats, you can also perform any of the algebraic operations\ng = 82.132\nprint('f * g =', f*g)",
      "execution_count": 5,
      "outputs": [
        {
          "name": "stdout",
          "output_type": "stream",
          "text": "f * g = 466.345496\n"
        }
      ]
    },
    {
      "metadata": {},
      "cell_type": "markdown",
      "source": "# Section 3: Strings"
    },
    {
      "metadata": {
        "trusted": false
      },
      "cell_type": "code",
      "source": "# A string is a collection of characters. In Python, you create a string by enclosing a sequence of characters within a pair of single or double quotes\nh = 'John'\ni = 'lives'\nj = \"at\"\nk = \"Houston\"\nprint(h + i + j + k)",
      "execution_count": 6,
      "outputs": [
        {
          "name": "stdout",
          "output_type": "stream",
          "text": "JohnlivesatHouston\n"
        }
      ]
    },
    {
      "metadata": {
        "trusted": false
      },
      "cell_type": "code",
      "source": "# Note that the output from previous code cell looks odd because of the lack of spaces between adjacent words.\n# A simple way to fix it is to add one additional space in each string (except for the last one)\nh = \"John \"\ni = \"lives \"\nj = \"at \"\nk = \"Houston\"\nprint(h + i + j + k)",
      "execution_count": 7,
      "outputs": [
        {
          "name": "stdout",
          "output_type": "stream",
          "text": "John lives at Houston\n"
        }
      ]
    },
    {
      "metadata": {},
      "cell_type": "markdown",
      "source": "Note that you can concatenate strings by using the + sign. Also, note that this line you are reading now is NOT comments, because it does not start with the hash sign #."
    },
    {
      "metadata": {
        "trusted": false
      },
      "cell_type": "code",
      "source": "# If you want to start a new line, you need to use \\n.\nline = 'First line. \\nSecond line.'\nprint(line)",
      "execution_count": 8,
      "outputs": [
        {
          "name": "stdout",
          "output_type": "stream",
          "text": "First line. \nSecond line.\n"
        }
      ]
    },
    {
      "metadata": {
        "trusted": false
      },
      "cell_type": "code",
      "source": "# Strings can be indexed (subscripted), with the fist character having index of 0. \n# Note that Python does not have a character data type. A single character can be considered as a string of size one.\nmychar = 'Python'\nmychar[0]  # The character with index 0",
      "execution_count": 9,
      "outputs": [
        {
          "data": {
            "text/plain": "'P'"
          },
          "execution_count": 9,
          "metadata": {},
          "output_type": "execute_result"
        }
      ]
    },
    {
      "metadata": {
        "trusted": false
      },
      "cell_type": "code",
      "source": "mychar[1]  # The character with index 1",
      "execution_count": 10,
      "outputs": [
        {
          "data": {
            "text/plain": "'y'"
          },
          "execution_count": 10,
          "metadata": {},
          "output_type": "execute_result"
        }
      ]
    },
    {
      "metadata": {
        "trusted": false
      },
      "cell_type": "code",
      "source": "mychar[2:] # The sequence of characters beginning with the one with index 2 until the last character in the string",
      "execution_count": 11,
      "outputs": [
        {
          "data": {
            "text/plain": "'thon'"
          },
          "execution_count": 11,
          "metadata": {},
          "output_type": "execute_result"
        }
      ]
    },
    {
      "metadata": {
        "trusted": false
      },
      "cell_type": "code",
      "source": "print(mychar * 2)",
      "execution_count": 12,
      "outputs": [
        {
          "name": "stdout",
          "output_type": "stream",
          "text": "PythonPython\n"
        }
      ]
    },
    {
      "metadata": {},
      "cell_type": "markdown",
      "source": "# Section 4: Boolean"
    },
    {
      "metadata": {
        "trusted": false
      },
      "cell_type": "code",
      "source": "# A Boolean variable in Python can only take two values: True, False\nbvar = True\nprint(bvar)",
      "execution_count": 13,
      "outputs": [
        {
          "name": "stdout",
          "output_type": "stream",
          "text": "True\n"
        }
      ]
    },
    {
      "metadata": {},
      "cell_type": "markdown",
      "source": "Now we are moving on to the more advanced data types in Python"
    },
    {
      "metadata": {},
      "cell_type": "markdown",
      "source": "# Section 5: Array"
    },
    {
      "metadata": {
        "trusted": true
      },
      "cell_type": "code",
      "source": "# An array is a compact way of collecting values of the same basic data types (i.e., homogeneous items)\n# Since we will use Numpy array for our class, we will only look at Numpy array for now.\n# To creat a Numpy array, we first need to import Numpy library\nimport numpy as np",
      "execution_count": 1,
      "outputs": []
    },
    {
      "metadata": {
        "trusted": true
      },
      "cell_type": "code",
      "source": "# Now, let us create a Numpy array and multiply it by 3.2\nnarr1 = np.array([2,3,5])\nnarr2 = narr1 / 3.2\nprint(narr2)",
      "execution_count": 2,
      "outputs": [
        {
          "output_type": "stream",
          "text": "[0.625  0.9375 1.5625]\n",
          "name": "stdout"
        }
      ]
    },
    {
      "metadata": {
        "trusted": true
      },
      "cell_type": "code",
      "source": "# You can slice a numpy array using indices\nnarr2[0]  # The element or item associated with index 0",
      "execution_count": 3,
      "outputs": [
        {
          "output_type": "execute_result",
          "execution_count": 3,
          "data": {
            "text/plain": "0.625"
          },
          "metadata": {}
        }
      ]
    },
    {
      "metadata": {
        "trusted": true
      },
      "cell_type": "code",
      "source": "# If you want to add a value, say, 21.3, to every elements, you can simply do the following:\nnarr3 = narr2 + 12.3\nprint(narr3)",
      "execution_count": 4,
      "outputs": [
        {
          "output_type": "stream",
          "text": "[12.925  13.2375 13.8625]\n",
          "name": "stdout"
        }
      ]
    },
    {
      "metadata": {},
      "cell_type": "markdown",
      "source": "# Section 6: Lists"
    },
    {
      "metadata": {
        "trusted": false
      },
      "cell_type": "code",
      "source": "# A list is a collection of heterogenous items (i.e., items can be of different data types). The values for these items are mutable.\n# The elements in a list are enclosed within [ ], and separated by comma , \nlist1 = [2.8, 9.2, 23.1]\nlist1[0]  # The first element in the list",
      "execution_count": 18,
      "outputs": [
        {
          "data": {
            "text/plain": "2.8"
          },
          "execution_count": 18,
          "metadata": {},
          "output_type": "execute_result"
        }
      ]
    },
    {
      "metadata": {
        "trusted": false
      },
      "cell_type": "code",
      "source": "list1/2   ",
      "execution_count": 19,
      "outputs": [
        {
          "ename": "TypeError",
          "evalue": "unsupported operand type(s) for /: 'list' and 'int'",
          "output_type": "error",
          "traceback": [
            "\u001b[0;31m---------------------------------------------------------------------------\u001b[0m",
            "\u001b[0;31mTypeError\u001b[0m                                 Traceback (most recent call last)",
            "\u001b[0;32m<ipython-input-19-1fafc2de3df2>\u001b[0m in \u001b[0;36m<module>\u001b[0;34m()\u001b[0m\n\u001b[0;32m----> 1\u001b[0;31m \u001b[0mlist1\u001b[0m\u001b[0;34m/\u001b[0m\u001b[0;36m2\u001b[0m\u001b[0;34m\u001b[0m\u001b[0m\n\u001b[0m",
            "\u001b[0;31mTypeError\u001b[0m: unsupported operand type(s) for /: 'list' and 'int'"
          ]
        }
      ]
    },
    {
      "metadata": {},
      "cell_type": "markdown",
      "source": "Do not worry! That is just to show you why we prefer to work with Numpy array. \nSimple operations like in the above example are not supported by this data type."
    },
    {
      "metadata": {
        "trusted": false
      },
      "cell_type": "code",
      "source": "# Note that lists can take heterogenous items, while Numpy array can only take homogenous items.\nlist2 = [2.89, True, 'Houston', 14]\nprint(list2)\narray2 = np.array([2.89, True, 'Houston', 14])\nprint(array2)",
      "execution_count": 20,
      "outputs": [
        {
          "name": "stdout",
          "output_type": "stream",
          "text": "[2.89, True, 'Houston', 14]\n['2.89' 'True' 'Houston' '14']\n"
        }
      ]
    },
    {
      "metadata": {},
      "cell_type": "markdown",
      "source": "Pay close attention to the output of print(array2). Have you noticed that when you put heterogenous items into a Numpy array, all the items will be converted into the same data type (in this case, strings)?"
    },
    {
      "metadata": {},
      "cell_type": "markdown",
      "source": "# Section 7: Tuples"
    },
    {
      "metadata": {
        "trusted": false
      },
      "cell_type": "code",
      "source": "# A tuple is a collection of heterogeneous items that are enclosed by parentheses (optional) and separated by comma ,\n# The values of the items in a tuple are immutable\ntup1 = 1, 2, 3, 4, 5\ntup1[1]   # the item with index of 1 in the tuple",
      "execution_count": 21,
      "outputs": [
        {
          "data": {
            "text/plain": "2"
          },
          "execution_count": 21,
          "metadata": {},
          "output_type": "execute_result"
        }
      ]
    },
    {
      "metadata": {
        "trusted": false
      },
      "cell_type": "code",
      "source": "tup2 = (4, 21, 6, 9, 76)\ntup2[2]   # the item with index of 2 in the tuple",
      "execution_count": 22,
      "outputs": [
        {
          "data": {
            "text/plain": "6"
          },
          "execution_count": 22,
          "metadata": {},
          "output_type": "execute_result"
        }
      ]
    },
    {
      "metadata": {
        "trusted": false
      },
      "cell_type": "code",
      "source": "tup3 = 'dog', 'cat', 29, 13\ntup3[1]",
      "execution_count": 23,
      "outputs": [
        {
          "data": {
            "text/plain": "'cat'"
          },
          "execution_count": 23,
          "metadata": {},
          "output_type": "execute_result"
        }
      ]
    },
    {
      "metadata": {},
      "cell_type": "markdown",
      "source": "# Section 8: Dictionary"
    },
    {
      "metadata": {
        "trusted": false
      },
      "cell_type": "code",
      "source": "# A dictionary consists of a sequence of key-value pairs, enclosed by curly brackets { }, and separate by comma ,\nstockprice = {\"ExxonMobile\":88.32, \"BP\":43.86, \"Chevron\":131.70, \"Anadarko\":61.32}\nstockprice[\"BP\"]   # retrieve the stock price for BP, by using the key",
      "execution_count": 24,
      "outputs": [
        {
          "data": {
            "text/plain": "43.86"
          },
          "execution_count": 24,
          "metadata": {},
          "output_type": "execute_result"
        }
      ]
    },
    {
      "metadata": {
        "trusted": false
      },
      "cell_type": "code",
      "source": "# you can check if a key exists in a dictionary\n\"BP\" in stockprice",
      "execution_count": 25,
      "outputs": [
        {
          "data": {
            "text/plain": "True"
          },
          "execution_count": 25,
          "metadata": {},
          "output_type": "execute_result"
        }
      ]
    },
    {
      "metadata": {
        "trusted": false
      },
      "cell_type": "code",
      "source": "# You can change the value associated with any key in the dictionary\ndel(stockprice[\"BP\"])\nstockprice",
      "execution_count": 26,
      "outputs": [
        {
          "data": {
            "text/plain": "{'Anadarko': 61.32, 'Chevron': 131.7, 'ExxonMobile': 88.32}"
          },
          "execution_count": 26,
          "metadata": {},
          "output_type": "execute_result"
        }
      ]
    },
    {
      "metadata": {},
      "cell_type": "markdown",
      "source": "# Section 9: If statement"
    },
    {
      "metadata": {},
      "cell_type": "markdown",
      "source": "The syntax for if statement:\n\n**if** <font color = blue>*expression*</font>:<br> \n&nbsp;&nbsp; <font color = red>statement(s)</font>\n\nAn if statement consists of a boolean expression (or equivalently, logical expression) followed by one or more statements.  <br>\nIf the boolean expression evaluates to TRUE, then the block of statement(s) inside the if statement is executed. If boolean expression evaluates to FALSE, then the first set of code after the end of the if statement(s) is executed."
    },
    {
      "metadata": {
        "trusted": false
      },
      "cell_type": "code",
      "source": "# an example of if statement\nval = 10\nif (val%2 == 0):   # The expression in the brackets is true; note that the brackets are optional\n    print('val is divisible by 2')    # Therefore, this statement is executed",
      "execution_count": 27,
      "outputs": [
        {
          "name": "stdout",
          "output_type": "stream",
          "text": "val is divisible by 2\n"
        }
      ]
    },
    {
      "metadata": {},
      "cell_type": "markdown",
      "source": "We can also have if-else statement:\n    \n**if** <font color = blue>*expression*</font>:<br> \n&nbsp;&nbsp; <font color = red>statement(s)</font> <br>\n**else:**<br>\n&nbsp;&nbsp; <font color = red>statement(s)</font> "
    },
    {
      "metadata": {
        "trusted": false
      },
      "cell_type": "code",
      "source": "# an example of the if-else statement\nval = 15\nif (val%2 == 0):   # The expression in the brackets is false\n    print(\"val is even!\")  # Therefore, this statement is not executed\nelse: \n    print(\"val is odd!\")  # This statement is executed instead.",
      "execution_count": 28,
      "outputs": [
        {
          "name": "stdout",
          "output_type": "stream",
          "text": "val is odd!\n"
        }
      ]
    },
    {
      "metadata": {},
      "cell_type": "markdown",
      "source": "A more general form of the if statement has the following form:\n\n**if** <font color = blue>*expression1*</font>:<br> \n&nbsp;&nbsp;&nbsp; <font color = red>statement(s)</font> <br>\n**elif** <font color = blue>*expression2*</font>:<br>\n&nbsp;&nbsp;&nbsp; <font color = red>statement(s)</font><br>\n**elif** <font color = blue>*expression3*</font>:<br>\n&nbsp;&nbsp;&nbsp; <font color = red>statement(s)</font><br>\n**else:**<br>\n&nbsp;&nbsp;&nbsp; <font color = red>statement(s)</font>"
    },
    {
      "metadata": {
        "trusted": false
      },
      "cell_type": "code",
      "source": "# An example of the if-elif-else statement\nvar = 1500\nif var == 1000:   # the expression is false\n    print(\"1 - Got a true expression value\")  # Thus, this statement is not executed\n    print(var)\nelif var == 1500:  # the expression is true\n    print(\"2 - Got a true expression value\")  # Thus, this statement is executed\n    print(var)\nelif var == 2000:\n    print(\"3 - Got a true expression value\")\n    print(var)\nelse:\n    print(\"4 - Got a false expression value\")\n    print(var)",
      "execution_count": 29,
      "outputs": [
        {
          "name": "stdout",
          "output_type": "stream",
          "text": "2 - Got a true expression value\n1500\n"
        }
      ]
    },
    {
      "metadata": {
        "collapsed": true
      },
      "cell_type": "markdown",
      "source": "# Section 10: While loop"
    },
    {
      "metadata": {},
      "cell_type": "markdown",
      "source": "The syntax for while loop:\n    \n**while** <font color = blue>*expression*</font>: <br>\n&nbsp;&nbsp;&nbsp;&nbsp;&nbsp;&nbsp;<font color = red>statement(s)</font>    \n\nA while loop repeatedly executes the statement(s) if the expression evaluates to True.\nIf the expression evaluates to False, the statement(s) will be skipped, and the first statement after the while loop will be executed."
    },
    {
      "metadata": {
        "trusted": false
      },
      "cell_type": "code",
      "source": "# example of a while loop \nval = 0\nwhile (val < 6):\n    print(\"val =\", val)\n    val = val + 1\n    \nprint('done!')",
      "execution_count": 30,
      "outputs": [
        {
          "name": "stdout",
          "output_type": "stream",
          "text": "val = 0\nval = 1\nval = 2\nval = 3\nval = 4\nval = 5\ndone!\n"
        }
      ]
    },
    {
      "metadata": {},
      "cell_type": "markdown",
      "source": "# Section 11: For loop"
    },
    {
      "metadata": {},
      "cell_type": "markdown",
      "source": "The for loop has the following form:\n    \n**for** <font color = blue>*var*</font> **in** <font color = green>*seq*</font>: <br>\n&nbsp;&nbsp;&nbsp;&nbsp;&nbsp;&nbsp;<font color = red>statement(s)</font>  \n\nwhich can be interpreted as:\nfor each <font color = blue>*var*</font> in the sequence <font color = green>*seq*</font> (could be a list or a string), execute statements"
    },
    {
      "metadata": {
        "trusted": false
      },
      "cell_type": "code",
      "source": "# an example of for loop\nfor letter in \"Python\":   # note that the sequence here is actually a string\n    print(\"Current letter is:\", letter)",
      "execution_count": 31,
      "outputs": [
        {
          "name": "stdout",
          "output_type": "stream",
          "text": "Current letter is: P\nCurrent letter is: y\nCurrent letter is: t\nCurrent letter is: h\nCurrent letter is: o\nCurrent letter is: n\n"
        }
      ]
    },
    {
      "metadata": {
        "trusted": false
      },
      "cell_type": "code",
      "source": "# another example of for loop\ncities = [\"Houston\", \"LA\", \"Denver\", \"New York\"]\nfor city in cities:  # Note that the sequence, cities, here is a list\n   print(\"The current city is:\", city)",
      "execution_count": 32,
      "outputs": [
        {
          "name": "stdout",
          "output_type": "stream",
          "text": "The current city is: Houston\nThe current city is: LA\nThe current city is: Denver\nThe current city is: New York\n"
        }
      ]
    },
    {
      "metadata": {
        "collapsed": true
      },
      "cell_type": "markdown",
      "source": "# Congratulations on finishing your first Python tour! You are now equipped with enough Python knowledge that you can start programming in Python!"
    }
  ],
  "metadata": {
    "kernelspec": {
      "name": "python36",
      "display_name": "Python 3.6",
      "language": "python"
    },
    "language_info": {
      "mimetype": "text/x-python",
      "nbconvert_exporter": "python",
      "name": "python",
      "pygments_lexer": "ipython3",
      "version": "3.6.6",
      "file_extension": ".py",
      "codemirror_mode": {
        "version": 3,
        "name": "ipython"
      }
    }
  },
  "nbformat": 4,
  "nbformat_minor": 2
}